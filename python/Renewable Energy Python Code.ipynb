{
 "cells": [
  {
   "cell_type": "code",
   "execution_count": 1,
   "metadata": {},
   "outputs": [],
   "source": [
    "import seaborn as sns\n",
    "import pandas as pd\n",
    "import numpy as np "
   ]
  },
  {
   "cell_type": "code",
   "execution_count": 2,
   "metadata": {},
   "outputs": [],
   "source": [
    "import warnings\n",
    "warnings.filterwarnings(\"ignore\")"
   ]
  },
  {
   "cell_type": "markdown",
   "metadata": {},
   "source": [
    "Renewable Energy Data File"
   ]
  },
  {
   "cell_type": "code",
   "execution_count": 186,
   "metadata": {},
   "outputs": [],
   "source": [
    "data = pd.read_csv('Renewable Energy.csv')"
   ]
  },
  {
   "cell_type": "code",
   "execution_count": 188,
   "metadata": {},
   "outputs": [
    {
     "data": {
      "text/html": [
       "<div>\n",
       "<style scoped>\n",
       "    .dataframe tbody tr th:only-of-type {\n",
       "        vertical-align: middle;\n",
       "    }\n",
       "\n",
       "    .dataframe tbody tr th {\n",
       "        vertical-align: top;\n",
       "    }\n",
       "\n",
       "    .dataframe thead th {\n",
       "        text-align: right;\n",
       "    }\n",
       "</style>\n",
       "<table border=\"1\" class=\"dataframe\">\n",
       "  <thead>\n",
       "    <tr style=\"text-align: right;\">\n",
       "      <th></th>\n",
       "      <th>State</th>\n",
       "      <th>Year</th>\n",
       "      <th>Coal</th>\n",
       "      <th>Natural Gas exluding supplemental gaseous fuels</th>\n",
       "      <th>Distillate Fuel Oil</th>\n",
       "      <th>HGL</th>\n",
       "      <th>Jet Fuel</th>\n",
       "      <th>Motor gasoline excluding Fuel Ethanol</th>\n",
       "      <th>Residual Fuel Oil</th>\n",
       "      <th>Other</th>\n",
       "      <th>...</th>\n",
       "      <th>Fuel Ethanol</th>\n",
       "      <th>Losses and co-products</th>\n",
       "      <th>Total_biomass</th>\n",
       "      <th>Geothermal</th>\n",
       "      <th>Solar</th>\n",
       "      <th>Wind</th>\n",
       "      <th>Total_renewable</th>\n",
       "      <th>Interstate flow of Electricity</th>\n",
       "      <th>Net Electricity Imports</th>\n",
       "      <th>Total</th>\n",
       "    </tr>\n",
       "  </thead>\n",
       "  <tbody>\n",
       "    <tr>\n",
       "      <th>0</th>\n",
       "      <td>Alabama</td>\n",
       "      <td>1960</td>\n",
       "      <td>395.4</td>\n",
       "      <td>190.7</td>\n",
       "      <td>31.4</td>\n",
       "      <td>12.5</td>\n",
       "      <td>6.1</td>\n",
       "      <td>129.1</td>\n",
       "      <td>27.0</td>\n",
       "      <td>30.2</td>\n",
       "      <td>...</td>\n",
       "      <td>NaN</td>\n",
       "      <td>NaN</td>\n",
       "      <td>45.7</td>\n",
       "      <td>0.0</td>\n",
       "      <td>NaN</td>\n",
       "      <td>NaN</td>\n",
       "      <td>112.8</td>\n",
       "      <td>-68.3</td>\n",
       "      <td>0.0</td>\n",
       "      <td>866.9</td>\n",
       "    </tr>\n",
       "    <tr>\n",
       "      <th>1</th>\n",
       "      <td>Alabama</td>\n",
       "      <td>1965</td>\n",
       "      <td>533.1</td>\n",
       "      <td>236.9</td>\n",
       "      <td>30.6</td>\n",
       "      <td>16.5</td>\n",
       "      <td>6.2</td>\n",
       "      <td>151.9</td>\n",
       "      <td>16.0</td>\n",
       "      <td>41.0</td>\n",
       "      <td>...</td>\n",
       "      <td>NaN</td>\n",
       "      <td>NaN</td>\n",
       "      <td>47.6</td>\n",
       "      <td>0.0</td>\n",
       "      <td>NaN</td>\n",
       "      <td>NaN</td>\n",
       "      <td>121.9</td>\n",
       "      <td>-109.3</td>\n",
       "      <td>0.0</td>\n",
       "      <td>1,045.0</td>\n",
       "    </tr>\n",
       "    <tr>\n",
       "      <th>2</th>\n",
       "      <td>Alabama</td>\n",
       "      <td>1970</td>\n",
       "      <td>675.6</td>\n",
       "      <td>307.8</td>\n",
       "      <td>49.6</td>\n",
       "      <td>28.9</td>\n",
       "      <td>9.9</td>\n",
       "      <td>194.4</td>\n",
       "      <td>20.7</td>\n",
       "      <td>48.7</td>\n",
       "      <td>...</td>\n",
       "      <td>NaN</td>\n",
       "      <td>NaN</td>\n",
       "      <td>52.4</td>\n",
       "      <td>0.0</td>\n",
       "      <td>NaN</td>\n",
       "      <td>NaN</td>\n",
       "      <td>132.5</td>\n",
       "      <td>-74.4</td>\n",
       "      <td>0.0</td>\n",
       "      <td>1,393.6</td>\n",
       "    </tr>\n",
       "    <tr>\n",
       "      <th>3</th>\n",
       "      <td>Alabama</td>\n",
       "      <td>1971</td>\n",
       "      <td>626.1</td>\n",
       "      <td>294.8</td>\n",
       "      <td>51.6</td>\n",
       "      <td>30.6</td>\n",
       "      <td>9.8</td>\n",
       "      <td>205.2</td>\n",
       "      <td>16.7</td>\n",
       "      <td>51.2</td>\n",
       "      <td>...</td>\n",
       "      <td>NaN</td>\n",
       "      <td>NaN</td>\n",
       "      <td>54.1</td>\n",
       "      <td>0.0</td>\n",
       "      <td>NaN</td>\n",
       "      <td>NaN</td>\n",
       "      <td>158.2</td>\n",
       "      <td>-59.1</td>\n",
       "      <td>0.0</td>\n",
       "      <td>1,385.1</td>\n",
       "    </tr>\n",
       "    <tr>\n",
       "      <th>4</th>\n",
       "      <td>Alabama</td>\n",
       "      <td>1972</td>\n",
       "      <td>669.7</td>\n",
       "      <td>287.1</td>\n",
       "      <td>70.4</td>\n",
       "      <td>34.2</td>\n",
       "      <td>9.4</td>\n",
       "      <td>217.4</td>\n",
       "      <td>19.7</td>\n",
       "      <td>54.2</td>\n",
       "      <td>...</td>\n",
       "      <td>NaN</td>\n",
       "      <td>NaN</td>\n",
       "      <td>58.7</td>\n",
       "      <td>0.0</td>\n",
       "      <td>NaN</td>\n",
       "      <td>NaN</td>\n",
       "      <td>164.9</td>\n",
       "      <td>-48.9</td>\n",
       "      <td>0.0</td>\n",
       "      <td>1,478.2</td>\n",
       "    </tr>\n",
       "  </tbody>\n",
       "</table>\n",
       "<p>5 rows × 27 columns</p>\n",
       "</div>"
      ],
      "text/plain": [
       "     State  Year   Coal Natural Gas exluding supplemental gaseous fuels  \\\n",
       "0  Alabama  1960  395.4                                           190.7   \n",
       "1  Alabama  1965  533.1                                           236.9   \n",
       "2  Alabama  1970  675.6                                           307.8   \n",
       "3  Alabama  1971  626.1                                           294.8   \n",
       "4  Alabama  1972  669.7                                           287.1   \n",
       "\n",
       "  Distillate Fuel Oil   HGL  Jet Fuel Motor gasoline excluding Fuel Ethanol  \\\n",
       "0                31.4  12.5       6.1                                 129.1   \n",
       "1                30.6  16.5       6.2                                 151.9   \n",
       "2                49.6  28.9       9.9                                 194.4   \n",
       "3                51.6  30.6       9.8                                 205.2   \n",
       "4                70.4  34.2       9.4                                 217.4   \n",
       "\n",
       "  Residual Fuel Oil Other   ...    Fuel Ethanol Losses and co-products  \\\n",
       "0              27.0  30.2   ...             NaN                    NaN   \n",
       "1              16.0  41.0   ...             NaN                    NaN   \n",
       "2              20.7  48.7   ...             NaN                    NaN   \n",
       "3              16.7  51.2   ...             NaN                    NaN   \n",
       "4              19.7  54.2   ...             NaN                    NaN   \n",
       "\n",
       "  Total_biomass Geothermal Solar Wind Total_renewable  \\\n",
       "0          45.7        0.0   NaN  NaN           112.8   \n",
       "1          47.6        0.0   NaN  NaN           121.9   \n",
       "2          52.4        0.0   NaN  NaN           132.5   \n",
       "3          54.1        0.0   NaN  NaN           158.2   \n",
       "4          58.7        0.0   NaN  NaN           164.9   \n",
       "\n",
       "  Interstate flow of Electricity  Net Electricity Imports    Total  \n",
       "0                          -68.3                      0.0    866.9  \n",
       "1                         -109.3                      0.0  1,045.0  \n",
       "2                          -74.4                      0.0  1,393.6  \n",
       "3                          -59.1                      0.0  1,385.1  \n",
       "4                          -48.9                      0.0  1,478.2  \n",
       "\n",
       "[5 rows x 27 columns]"
      ]
     },
     "execution_count": 188,
     "metadata": {},
     "output_type": "execute_result"
    }
   ],
   "source": [
    "data.head()"
   ]
  },
  {
   "cell_type": "code",
   "execution_count": 74,
   "metadata": {},
   "outputs": [
    {
     "data": {
      "text/plain": [
       "Index(['State', 'Year', 'Coal',\n",
       "       'Natural Gas exluding supplemental gaseous fuels',\n",
       "       'Distillate Fuel Oil', 'HGL', 'Jet Fuel',\n",
       "       'Motor gasoline excluding Fuel Ethanol', 'Residual Fuel Oil', 'Other',\n",
       "       'Total_petroleum', 'Total_fossilfuel',\n",
       "       'Natural Gas including supplemental gaseous fuels',\n",
       "       'Motor gasoline including Fuel Ethanol', 'Nuclear Electric Power',\n",
       "       'Hydroelectric Powe', 'Wood and Waste', 'Fuel Ethanol',\n",
       "       'Losses and co-products', 'Total_biomass', 'Geothermal', 'Solar',\n",
       "       'Wind', 'Total_renewable', 'Interstate flow of Electricity',\n",
       "       'Net Electricity Imports', 'Total'],\n",
       "      dtype='object')"
      ]
     },
     "execution_count": 74,
     "metadata": {},
     "output_type": "execute_result"
    }
   ],
   "source": [
    "data.columns"
   ]
  },
  {
   "cell_type": "code",
   "execution_count": 75,
   "metadata": {},
   "outputs": [],
   "source": [
    "data.fillna(0,inplace=True)"
   ]
  },
  {
   "cell_type": "code",
   "execution_count": 76,
   "metadata": {},
   "outputs": [],
   "source": [
    "data['Natural Gas exluding supplemental gaseous fuels'] = data['Natural Gas exluding supplemental gaseous fuels'].map(lambda x:x.replace('R',''))"
   ]
  },
  {
   "cell_type": "code",
   "execution_count": 77,
   "metadata": {},
   "outputs": [],
   "source": [
    "data['Distillate Fuel Oil'] = data['Distillate Fuel Oil'].map(lambda x:x.replace('R',''))"
   ]
  },
  {
   "cell_type": "code",
   "execution_count": 78,
   "metadata": {},
   "outputs": [],
   "source": [
    "data['HGL'] = data['HGL'].map(lambda x:x.replace('R',''))"
   ]
  },
  {
   "cell_type": "code",
   "execution_count": 79,
   "metadata": {},
   "outputs": [],
   "source": [
    "data['Jet Fuel'] = data['Jet Fuel'].map(lambda x:str(x).replace('R',''))"
   ]
  },
  {
   "cell_type": "code",
   "execution_count": 80,
   "metadata": {},
   "outputs": [],
   "source": [
    "data['Motor gasoline excluding Fuel Ethanol'] = data['Motor gasoline excluding Fuel Ethanol'].map(lambda x:x.replace('R',''))"
   ]
  },
  {
   "cell_type": "code",
   "execution_count": 81,
   "metadata": {},
   "outputs": [],
   "source": [
    "data['Residual Fuel Oil'] = data['Residual Fuel Oil'].map(lambda x:x.replace('R',''))"
   ]
  },
  {
   "cell_type": "code",
   "execution_count": 82,
   "metadata": {},
   "outputs": [],
   "source": [
    "data['Other'] = data['Other'].map(lambda x:x.replace('R',''))"
   ]
  },
  {
   "cell_type": "code",
   "execution_count": 83,
   "metadata": {},
   "outputs": [],
   "source": [
    "data['Total_petroleum'] = data['Total_petroleum'].map(lambda x:x.replace('R',''))"
   ]
  },
  {
   "cell_type": "code",
   "execution_count": 84,
   "metadata": {},
   "outputs": [],
   "source": [
    "data['Total_fossilfuel'] = data['Total_fossilfuel'].map(lambda x:x.replace('R',''))"
   ]
  },
  {
   "cell_type": "code",
   "execution_count": 85,
   "metadata": {},
   "outputs": [],
   "source": [
    "data['Natural Gas including supplemental gaseous fuels'] = data['Natural Gas including supplemental gaseous fuels'].map(lambda x:x.replace('R',''))"
   ]
  },
  {
   "cell_type": "code",
   "execution_count": 86,
   "metadata": {},
   "outputs": [],
   "source": [
    "data['Motor gasoline including Fuel Ethanol'] = data['Motor gasoline including Fuel Ethanol'].map(lambda x:x.replace('R',''))"
   ]
  },
  {
   "cell_type": "code",
   "execution_count": 87,
   "metadata": {},
   "outputs": [],
   "source": [
    "data['Nuclear Electric Power'] = data['Nuclear Electric Power'].map(lambda x:x.replace('R',''))"
   ]
  },
  {
   "cell_type": "code",
   "execution_count": 88,
   "metadata": {},
   "outputs": [],
   "source": [
    "data['Hydroelectric Powe'] = data['Hydroelectric Powe'].map(lambda x:x.replace('R',''))"
   ]
  },
  {
   "cell_type": "code",
   "execution_count": 89,
   "metadata": {},
   "outputs": [],
   "source": [
    "data['Wood and Waste'] = data['Wood and Waste'].map(lambda x:x.replace('R',''))"
   ]
  },
  {
   "cell_type": "code",
   "execution_count": 90,
   "metadata": {},
   "outputs": [],
   "source": [
    "data['Fuel Ethanol'] = data['Fuel Ethanol'].map(lambda x:str(x).replace('R',''))"
   ]
  },
  {
   "cell_type": "code",
   "execution_count": 91,
   "metadata": {},
   "outputs": [],
   "source": [
    "data['Losses and co-products'] = data['Losses and co-products'].map(lambda x:str(x).replace('R',''))"
   ]
  },
  {
   "cell_type": "code",
   "execution_count": 92,
   "metadata": {},
   "outputs": [],
   "source": [
    "data['Total_biomass'] = data['Total_biomass'].map(lambda x:str(x).replace('R',''))"
   ]
  },
  {
   "cell_type": "code",
   "execution_count": 93,
   "metadata": {},
   "outputs": [],
   "source": [
    "data['Geothermal'] = data['Geothermal'].map(lambda x:str(x).replace('R',''))"
   ]
  },
  {
   "cell_type": "code",
   "execution_count": 94,
   "metadata": {},
   "outputs": [],
   "source": [
    "data['Solar'] = data['Solar'].map(lambda x:str(x).replace('R',''))"
   ]
  },
  {
   "cell_type": "code",
   "execution_count": 95,
   "metadata": {},
   "outputs": [],
   "source": [
    "data['Wind'] = data['Wind'].map(lambda x:str(x).replace('R',''))"
   ]
  },
  {
   "cell_type": "code",
   "execution_count": 96,
   "metadata": {},
   "outputs": [],
   "source": [
    "data['Total_renewable'] = data['Total_renewable'].map(lambda x:str(x).replace('R',''))"
   ]
  },
  {
   "cell_type": "code",
   "execution_count": 97,
   "metadata": {},
   "outputs": [],
   "source": [
    "data['Interstate flow of Electricity'] = data['Interstate flow of Electricity'].map(lambda x:str(x).replace('R',''))"
   ]
  },
  {
   "cell_type": "code",
   "execution_count": 98,
   "metadata": {},
   "outputs": [],
   "source": [
    "data['Net Electricity Imports'] = data['Net Electricity Imports'].map(lambda x:str(x).replace('R',''))"
   ]
  },
  {
   "cell_type": "code",
   "execution_count": 99,
   "metadata": {},
   "outputs": [],
   "source": [
    "data['Total'] = data['Total'].map(lambda x:str(x).replace('R',''))"
   ]
  },
  {
   "cell_type": "code",
   "execution_count": 104,
   "metadata": {},
   "outputs": [
    {
     "data": {
      "text/plain": [
       "Index(['State', 'Year', 'Coal',\n",
       "       'Natural Gas exluding supplemental gaseous fuels',\n",
       "       'Distillate Fuel Oil', 'HGL', 'Jet Fuel',\n",
       "       'Motor gasoline excluding Fuel Ethanol', 'Residual Fuel Oil', 'Other',\n",
       "       'Total_petroleum', 'Total_fossilfuel',\n",
       "       'Natural Gas including supplemental gaseous fuels',\n",
       "       'Motor gasoline including Fuel Ethanol', 'Nuclear Electric Power',\n",
       "       'Hydroelectric Powe', 'Wood and Waste', 'Fuel Ethanol',\n",
       "       'Losses and co-products', 'Total_biomass', 'Geothermal', 'Solar',\n",
       "       'Wind', 'Total_renewable', 'Interstate flow of Electricity',\n",
       "       'Net Electricity Imports', 'Total', 'Max_Ren_Type'],\n",
       "      dtype='object')"
      ]
     },
     "execution_count": 104,
     "metadata": {},
     "output_type": "execute_result"
    }
   ],
   "source": [
    "data.columns"
   ]
  },
  {
   "cell_type": "code",
   "execution_count": 102,
   "metadata": {},
   "outputs": [],
   "source": [
    "data['Max_Ren_Type'] = ''"
   ]
  },
  {
   "cell_type": "code",
   "execution_count": 108,
   "metadata": {},
   "outputs": [],
   "source": [
    "def Ren_Type(row):\n",
    "    a = row['Hydroelectric Powe']\n",
    "    b = row.Geothermal\n",
    "    c = row.Solar\n",
    "    d = row.Wind\n",
    "    if max(a,b,c,d) == a:\n",
    "        return 'Hydroelectric Power'\n",
    "    elif max(a,b,c,d) == b:\n",
    "        return 'Geothermal'\n",
    "    elif max(a,b,c,d) == c:\n",
    "        return 'Solar'\n",
    "    else:\n",
    "        return 'Wind'"
   ]
  },
  {
   "cell_type": "code",
   "execution_count": 115,
   "metadata": {},
   "outputs": [],
   "source": [
    "data['Max_Ren_Type'] = data.apply(Ren_Type,axis=1)"
   ]
  },
  {
   "cell_type": "code",
   "execution_count": 123,
   "metadata": {},
   "outputs": [
    {
     "data": {
      "text/html": [
       "<div>\n",
       "<style scoped>\n",
       "    .dataframe tbody tr th:only-of-type {\n",
       "        vertical-align: middle;\n",
       "    }\n",
       "\n",
       "    .dataframe tbody tr th {\n",
       "        vertical-align: top;\n",
       "    }\n",
       "\n",
       "    .dataframe thead th {\n",
       "        text-align: right;\n",
       "    }\n",
       "</style>\n",
       "<table border=\"1\" class=\"dataframe\">\n",
       "  <thead>\n",
       "    <tr style=\"text-align: right;\">\n",
       "      <th></th>\n",
       "      <th>State</th>\n",
       "      <th>Year</th>\n",
       "      <th>Coal</th>\n",
       "      <th>Natural Gas exluding supplemental gaseous fuels</th>\n",
       "      <th>Distillate Fuel Oil</th>\n",
       "      <th>HGL</th>\n",
       "      <th>Jet Fuel</th>\n",
       "      <th>Motor gasoline excluding Fuel Ethanol</th>\n",
       "      <th>Residual Fuel Oil</th>\n",
       "      <th>Other</th>\n",
       "      <th>...</th>\n",
       "      <th>Losses and co-products</th>\n",
       "      <th>Total_biomass</th>\n",
       "      <th>Geothermal</th>\n",
       "      <th>Solar</th>\n",
       "      <th>Wind</th>\n",
       "      <th>Total_renewable</th>\n",
       "      <th>Interstate flow of Electricity</th>\n",
       "      <th>Net Electricity Imports</th>\n",
       "      <th>Total</th>\n",
       "      <th>Max_Ren_Type</th>\n",
       "    </tr>\n",
       "  </thead>\n",
       "  <tbody>\n",
       "    <tr>\n",
       "      <th>0</th>\n",
       "      <td>Alabama</td>\n",
       "      <td>1960</td>\n",
       "      <td>395.4</td>\n",
       "      <td>190.7</td>\n",
       "      <td>31.4</td>\n",
       "      <td>12.5</td>\n",
       "      <td>6.1</td>\n",
       "      <td>129.1</td>\n",
       "      <td>27.0</td>\n",
       "      <td>30.2</td>\n",
       "      <td>...</td>\n",
       "      <td>0.0</td>\n",
       "      <td>45.7</td>\n",
       "      <td>0.0</td>\n",
       "      <td>0</td>\n",
       "      <td>0.0</td>\n",
       "      <td>112.8</td>\n",
       "      <td>-68.3</td>\n",
       "      <td>0.0</td>\n",
       "      <td>866.9</td>\n",
       "      <td>Hydroelectric Power</td>\n",
       "    </tr>\n",
       "    <tr>\n",
       "      <th>1</th>\n",
       "      <td>Alabama</td>\n",
       "      <td>1965</td>\n",
       "      <td>533.1</td>\n",
       "      <td>236.9</td>\n",
       "      <td>30.6</td>\n",
       "      <td>16.5</td>\n",
       "      <td>6.2</td>\n",
       "      <td>151.9</td>\n",
       "      <td>16.0</td>\n",
       "      <td>41.0</td>\n",
       "      <td>...</td>\n",
       "      <td>0.0</td>\n",
       "      <td>47.6</td>\n",
       "      <td>0.0</td>\n",
       "      <td>0</td>\n",
       "      <td>0.0</td>\n",
       "      <td>121.9</td>\n",
       "      <td>-109.3</td>\n",
       "      <td>0.0</td>\n",
       "      <td>1,045.0</td>\n",
       "      <td>Hydroelectric Power</td>\n",
       "    </tr>\n",
       "    <tr>\n",
       "      <th>2</th>\n",
       "      <td>Alabama</td>\n",
       "      <td>1970</td>\n",
       "      <td>675.6</td>\n",
       "      <td>307.8</td>\n",
       "      <td>49.6</td>\n",
       "      <td>28.9</td>\n",
       "      <td>9.9</td>\n",
       "      <td>194.4</td>\n",
       "      <td>20.7</td>\n",
       "      <td>48.7</td>\n",
       "      <td>...</td>\n",
       "      <td>0.0</td>\n",
       "      <td>52.4</td>\n",
       "      <td>0.0</td>\n",
       "      <td>0</td>\n",
       "      <td>0.0</td>\n",
       "      <td>132.5</td>\n",
       "      <td>-74.4</td>\n",
       "      <td>0.0</td>\n",
       "      <td>1,393.6</td>\n",
       "      <td>Hydroelectric Power</td>\n",
       "    </tr>\n",
       "    <tr>\n",
       "      <th>3</th>\n",
       "      <td>Alabama</td>\n",
       "      <td>1971</td>\n",
       "      <td>626.1</td>\n",
       "      <td>294.8</td>\n",
       "      <td>51.6</td>\n",
       "      <td>30.6</td>\n",
       "      <td>9.8</td>\n",
       "      <td>205.2</td>\n",
       "      <td>16.7</td>\n",
       "      <td>51.2</td>\n",
       "      <td>...</td>\n",
       "      <td>0.0</td>\n",
       "      <td>54.1</td>\n",
       "      <td>0.0</td>\n",
       "      <td>0</td>\n",
       "      <td>0.0</td>\n",
       "      <td>158.2</td>\n",
       "      <td>-59.1</td>\n",
       "      <td>0.0</td>\n",
       "      <td>1,385.1</td>\n",
       "      <td>Hydroelectric Power</td>\n",
       "    </tr>\n",
       "    <tr>\n",
       "      <th>4</th>\n",
       "      <td>Alabama</td>\n",
       "      <td>1972</td>\n",
       "      <td>669.7</td>\n",
       "      <td>287.1</td>\n",
       "      <td>70.4</td>\n",
       "      <td>34.2</td>\n",
       "      <td>9.4</td>\n",
       "      <td>217.4</td>\n",
       "      <td>19.7</td>\n",
       "      <td>54.2</td>\n",
       "      <td>...</td>\n",
       "      <td>0.0</td>\n",
       "      <td>58.7</td>\n",
       "      <td>0.0</td>\n",
       "      <td>0</td>\n",
       "      <td>0.0</td>\n",
       "      <td>164.9</td>\n",
       "      <td>-48.9</td>\n",
       "      <td>0.0</td>\n",
       "      <td>1,478.2</td>\n",
       "      <td>Hydroelectric Power</td>\n",
       "    </tr>\n",
       "    <tr>\n",
       "      <th>5</th>\n",
       "      <td>Alabama</td>\n",
       "      <td>1973</td>\n",
       "      <td>688.7</td>\n",
       "      <td>280.0</td>\n",
       "      <td>84.0</td>\n",
       "      <td>32.2</td>\n",
       "      <td>9.3</td>\n",
       "      <td>229.5</td>\n",
       "      <td>38.4</td>\n",
       "      <td>57.3</td>\n",
       "      <td>...</td>\n",
       "      <td>0.0</td>\n",
       "      <td>59.1</td>\n",
       "      <td>0.0</td>\n",
       "      <td>0</td>\n",
       "      <td>0.0</td>\n",
       "      <td>181.7</td>\n",
       "      <td>-77.1</td>\n",
       "      <td>0.0</td>\n",
       "      <td>1,527.4</td>\n",
       "      <td>Hydroelectric Power</td>\n",
       "    </tr>\n",
       "    <tr>\n",
       "      <th>6</th>\n",
       "      <td>Alabama</td>\n",
       "      <td>1974</td>\n",
       "      <td>653.4</td>\n",
       "      <td>282.5</td>\n",
       "      <td>87.8</td>\n",
       "      <td>27.0</td>\n",
       "      <td>9.4</td>\n",
       "      <td>231.7</td>\n",
       "      <td>64.9</td>\n",
       "      <td>55.6</td>\n",
       "      <td>...</td>\n",
       "      <td>0.0</td>\n",
       "      <td>58.5</td>\n",
       "      <td>0.0</td>\n",
       "      <td>0</td>\n",
       "      <td>0.0</td>\n",
       "      <td>166.7</td>\n",
       "      <td>-101.3</td>\n",
       "      <td>0.0</td>\n",
       "      <td>1,547.8</td>\n",
       "      <td>Hydroelectric Power</td>\n",
       "    </tr>\n",
       "    <tr>\n",
       "      <th>7</th>\n",
       "      <td>Alabama</td>\n",
       "      <td>1975</td>\n",
       "      <td>640.1</td>\n",
       "      <td>271.7</td>\n",
       "      <td>85.6</td>\n",
       "      <td>24.7</td>\n",
       "      <td>9.4</td>\n",
       "      <td>237.3</td>\n",
       "      <td>81.4</td>\n",
       "      <td>49.5</td>\n",
       "      <td>...</td>\n",
       "      <td>0.0</td>\n",
       "      <td>57.6</td>\n",
       "      <td>0.0</td>\n",
       "      <td>0</td>\n",
       "      <td>0.0</td>\n",
       "      <td>184.7</td>\n",
       "      <td>-99.2</td>\n",
       "      <td>0.0</td>\n",
       "      <td>1,515.3</td>\n",
       "      <td>Hydroelectric Power</td>\n",
       "    </tr>\n",
       "    <tr>\n",
       "      <th>8</th>\n",
       "      <td>Alabama</td>\n",
       "      <td>1976</td>\n",
       "      <td>632.1</td>\n",
       "      <td>232.8</td>\n",
       "      <td>106.4</td>\n",
       "      <td>27.2</td>\n",
       "      <td>9.1</td>\n",
       "      <td>249.3</td>\n",
       "      <td>89.6</td>\n",
       "      <td>51.4</td>\n",
       "      <td>...</td>\n",
       "      <td>0.0</td>\n",
       "      <td>62.9</td>\n",
       "      <td>0.0</td>\n",
       "      <td>0</td>\n",
       "      <td>0.0</td>\n",
       "      <td>161.0</td>\n",
       "      <td>-53.5</td>\n",
       "      <td>0.0</td>\n",
       "      <td>1,552.0</td>\n",
       "      <td>Hydroelectric Power</td>\n",
       "    </tr>\n",
       "    <tr>\n",
       "      <th>9</th>\n",
       "      <td>Alabama</td>\n",
       "      <td>1977</td>\n",
       "      <td>629.4</td>\n",
       "      <td>248.7</td>\n",
       "      <td>115.2</td>\n",
       "      <td>29.4</td>\n",
       "      <td>9.8</td>\n",
       "      <td>258.3</td>\n",
       "      <td>102.5</td>\n",
       "      <td>58.5</td>\n",
       "      <td>...</td>\n",
       "      <td>0.0</td>\n",
       "      <td>66.7</td>\n",
       "      <td>0.0</td>\n",
       "      <td>0</td>\n",
       "      <td>0.0</td>\n",
       "      <td>174.8</td>\n",
       "      <td>-213.2</td>\n",
       "      <td>0.0</td>\n",
       "      <td>1,623.7</td>\n",
       "      <td>Hydroelectric Power</td>\n",
       "    </tr>\n",
       "    <tr>\n",
       "      <th>10</th>\n",
       "      <td>Alabama</td>\n",
       "      <td>1978</td>\n",
       "      <td>577.6</td>\n",
       "      <td>245.0</td>\n",
       "      <td>120.0</td>\n",
       "      <td>25.8</td>\n",
       "      <td>9.9</td>\n",
       "      <td>266.4</td>\n",
       "      <td>93.9</td>\n",
       "      <td>61.9</td>\n",
       "      <td>...</td>\n",
       "      <td>0.0</td>\n",
       "      <td>66.6</td>\n",
       "      <td>0.0</td>\n",
       "      <td>0</td>\n",
       "      <td>0.0</td>\n",
       "      <td>148.3</td>\n",
       "      <td>-160.0</td>\n",
       "      <td>0.0</td>\n",
       "      <td>1,638.6</td>\n",
       "      <td>Hydroelectric Power</td>\n",
       "    </tr>\n",
       "    <tr>\n",
       "      <th>11</th>\n",
       "      <td>Alabama</td>\n",
       "      <td>1979</td>\n",
       "      <td>670.2</td>\n",
       "      <td>291.5</td>\n",
       "      <td>87.7</td>\n",
       "      <td>21.5</td>\n",
       "      <td>9.5</td>\n",
       "      <td>251.7</td>\n",
       "      <td>64.4</td>\n",
       "      <td>56.8</td>\n",
       "      <td>...</td>\n",
       "      <td>0.0</td>\n",
       "      <td>67.9</td>\n",
       "      <td>0.0</td>\n",
       "      <td>0</td>\n",
       "      <td>0.0</td>\n",
       "      <td>190.7</td>\n",
       "      <td>-235.3</td>\n",
       "      <td>0.0</td>\n",
       "      <td>1,649.1</td>\n",
       "      <td>Hydroelectric Power</td>\n",
       "    </tr>\n",
       "    <tr>\n",
       "      <th>12</th>\n",
       "      <td>Alabama</td>\n",
       "      <td>1980</td>\n",
       "      <td>661.0</td>\n",
       "      <td>278.3</td>\n",
       "      <td>88.5</td>\n",
       "      <td>18.6</td>\n",
       "      <td>11.3</td>\n",
       "      <td>232.7</td>\n",
       "      <td>45.9</td>\n",
       "      <td>53.6</td>\n",
       "      <td>...</td>\n",
       "      <td>0.0</td>\n",
       "      <td>141.0</td>\n",
       "      <td>0.0</td>\n",
       "      <td>0</td>\n",
       "      <td>0.0</td>\n",
       "      <td>238.8</td>\n",
       "      <td>-239.9</td>\n",
       "      <td>0.0</td>\n",
       "      <td>1,645.1</td>\n",
       "      <td>Hydroelectric Power</td>\n",
       "    </tr>\n",
       "    <tr>\n",
       "      <th>13</th>\n",
       "      <td>Alabama</td>\n",
       "      <td>1981</td>\n",
       "      <td>630.0</td>\n",
       "      <td>281.0</td>\n",
       "      <td>104.5</td>\n",
       "      <td>17.2</td>\n",
       "      <td>9.7</td>\n",
       "      <td>226.0</td>\n",
       "      <td>29.2</td>\n",
       "      <td>58.0</td>\n",
       "      <td>...</td>\n",
       "      <td>0.0</td>\n",
       "      <td>150.2</td>\n",
       "      <td>0.0</td>\n",
       "      <td>0</td>\n",
       "      <td>0.0</td>\n",
       "      <td>213.4</td>\n",
       "      <td>-225.6</td>\n",
       "      <td>0.0</td>\n",
       "      <td>1,604.2</td>\n",
       "      <td>Hydroelectric Power</td>\n",
       "    </tr>\n",
       "    <tr>\n",
       "      <th>14</th>\n",
       "      <td>Alabama</td>\n",
       "      <td>1982</td>\n",
       "      <td>511.1</td>\n",
       "      <td>253.4</td>\n",
       "      <td>89.8</td>\n",
       "      <td>16.5</td>\n",
       "      <td>8.7</td>\n",
       "      <td>225.6</td>\n",
       "      <td>38.5</td>\n",
       "      <td>61.3</td>\n",
       "      <td>...</td>\n",
       "      <td>0.0</td>\n",
       "      <td>153.4</td>\n",
       "      <td>0.0</td>\n",
       "      <td>0</td>\n",
       "      <td>0.0</td>\n",
       "      <td>265.5</td>\n",
       "      <td>-278.0</td>\n",
       "      <td>0.0</td>\n",
       "      <td>1,499.2</td>\n",
       "      <td>Hydroelectric Power</td>\n",
       "    </tr>\n",
       "    <tr>\n",
       "      <th>15</th>\n",
       "      <td>Alabama</td>\n",
       "      <td>1983</td>\n",
       "      <td>532.6</td>\n",
       "      <td>230.0</td>\n",
       "      <td>89.6</td>\n",
       "      <td>16.8</td>\n",
       "      <td>9.1</td>\n",
       "      <td>227.9</td>\n",
       "      <td>21.8</td>\n",
       "      <td>50.5</td>\n",
       "      <td>...</td>\n",
       "      <td>0.0</td>\n",
       "      <td>164.7</td>\n",
       "      <td>0.0</td>\n",
       "      <td>0</td>\n",
       "      <td>0.0</td>\n",
       "      <td>282.2</td>\n",
       "      <td>-288.6</td>\n",
       "      <td>0.0</td>\n",
       "      <td>1,446.1</td>\n",
       "      <td>Hydroelectric Power</td>\n",
       "    </tr>\n",
       "    <tr>\n",
       "      <th>16</th>\n",
       "      <td>Alabama</td>\n",
       "      <td>1984</td>\n",
       "      <td>584.6</td>\n",
       "      <td>239.6</td>\n",
       "      <td>83.2</td>\n",
       "      <td>12.7</td>\n",
       "      <td>20.7</td>\n",
       "      <td>232.1</td>\n",
       "      <td>17.0</td>\n",
       "      <td>49.8</td>\n",
       "      <td>...</td>\n",
       "      <td>0.0</td>\n",
       "      <td>175.4</td>\n",
       "      <td>0.0</td>\n",
       "      <td>0.0</td>\n",
       "      <td>0.0</td>\n",
       "      <td>288.1</td>\n",
       "      <td>-245.8</td>\n",
       "      <td>0.0</td>\n",
       "      <td>1,544.7</td>\n",
       "      <td>Hydroelectric Power</td>\n",
       "    </tr>\n",
       "    <tr>\n",
       "      <th>17</th>\n",
       "      <td>Alabama</td>\n",
       "      <td>1985</td>\n",
       "      <td>662.9</td>\n",
       "      <td>227.8</td>\n",
       "      <td>84.6</td>\n",
       "      <td>13.7</td>\n",
       "      <td>19.7</td>\n",
       "      <td>228.4</td>\n",
       "      <td>14.1</td>\n",
       "      <td>49.7</td>\n",
       "      <td>...</td>\n",
       "      <td>0.0</td>\n",
       "      <td>176.7</td>\n",
       "      <td>0.0</td>\n",
       "      <td>0.0</td>\n",
       "      <td>0.0</td>\n",
       "      <td>248.6</td>\n",
       "      <td>-181.7</td>\n",
       "      <td>0.0</td>\n",
       "      <td>1,519.8</td>\n",
       "      <td>Hydroelectric Power</td>\n",
       "    </tr>\n",
       "    <tr>\n",
       "      <th>18</th>\n",
       "      <td>Alabama</td>\n",
       "      <td>1986</td>\n",
       "      <td>660.5</td>\n",
       "      <td>210.2</td>\n",
       "      <td>85.4</td>\n",
       "      <td>15.2</td>\n",
       "      <td>21.0</td>\n",
       "      <td>244.0</td>\n",
       "      <td>15.5</td>\n",
       "      <td>44.4</td>\n",
       "      <td>...</td>\n",
       "      <td>0.0</td>\n",
       "      <td>160.9</td>\n",
       "      <td>0.0</td>\n",
       "      <td>0.0</td>\n",
       "      <td>0.0</td>\n",
       "      <td>215.8</td>\n",
       "      <td>-129.4</td>\n",
       "      <td>0.0</td>\n",
       "      <td>1,504.8</td>\n",
       "      <td>Hydroelectric Power</td>\n",
       "    </tr>\n",
       "    <tr>\n",
       "      <th>19</th>\n",
       "      <td>Alabama</td>\n",
       "      <td>1987</td>\n",
       "      <td>660.7</td>\n",
       "      <td>214.6</td>\n",
       "      <td>93.4</td>\n",
       "      <td>17.6</td>\n",
       "      <td>21.7</td>\n",
       "      <td>254.9</td>\n",
       "      <td>15.3</td>\n",
       "      <td>57.9</td>\n",
       "      <td>...</td>\n",
       "      <td>0.0</td>\n",
       "      <td>155.7</td>\n",
       "      <td>0.0</td>\n",
       "      <td>0.0</td>\n",
       "      <td>0.0</td>\n",
       "      <td>233.5</td>\n",
       "      <td>-104.3</td>\n",
       "      <td>0.0</td>\n",
       "      <td>1,582.7</td>\n",
       "      <td>Hydroelectric Power</td>\n",
       "    </tr>\n",
       "    <tr>\n",
       "      <th>20</th>\n",
       "      <td>Alabama</td>\n",
       "      <td>1988</td>\n",
       "      <td>652.7</td>\n",
       "      <td>243.2</td>\n",
       "      <td>103.7</td>\n",
       "      <td>16.8</td>\n",
       "      <td>10.4</td>\n",
       "      <td>256.1</td>\n",
       "      <td>21.6</td>\n",
       "      <td>55.3</td>\n",
       "      <td>...</td>\n",
       "      <td>0.0</td>\n",
       "      <td>161.0</td>\n",
       "      <td>0.0</td>\n",
       "      <td>0.0</td>\n",
       "      <td>0.0</td>\n",
       "      <td>216.6</td>\n",
       "      <td>-62.1</td>\n",
       "      <td>0.0</td>\n",
       "      <td>1,651.8</td>\n",
       "      <td>Hydroelectric Power</td>\n",
       "    </tr>\n",
       "    <tr>\n",
       "      <th>21</th>\n",
       "      <td>Alabama</td>\n",
       "      <td>1989</td>\n",
       "      <td>682.1</td>\n",
       "      <td>253.6</td>\n",
       "      <td>124.2</td>\n",
       "      <td>18.1</td>\n",
       "      <td>11.4</td>\n",
       "      <td>260.0</td>\n",
       "      <td>22.9</td>\n",
       "      <td>51.6</td>\n",
       "      <td>...</td>\n",
       "      <td>0.0</td>\n",
       "      <td>167.0</td>\n",
       "      <td>0.0</td>\n",
       "      <td>0.1</td>\n",
       "      <td>0.0</td>\n",
       "      <td>304.4</td>\n",
       "      <td>-166.8</td>\n",
       "      <td>0.0</td>\n",
       "      <td>1,683.3</td>\n",
       "      <td>Hydroelectric Power</td>\n",
       "    </tr>\n",
       "    <tr>\n",
       "      <th>22</th>\n",
       "      <td>Alabama</td>\n",
       "      <td>1990</td>\n",
       "      <td>682.5</td>\n",
       "      <td>252.1</td>\n",
       "      <td>125.7</td>\n",
       "      <td>15.7</td>\n",
       "      <td>10.6</td>\n",
       "      <td>258.4</td>\n",
       "      <td>24.6</td>\n",
       "      <td>48.0</td>\n",
       "      <td>...</td>\n",
       "      <td>0.0</td>\n",
       "      <td>145.3</td>\n",
       "      <td>0.0</td>\n",
       "      <td>0.1</td>\n",
       "      <td>0.0</td>\n",
       "      <td>253.3</td>\n",
       "      <td>-132.9</td>\n",
       "      <td>0.0</td>\n",
       "      <td>1,665.5</td>\n",
       "      <td>Hydroelectric Power</td>\n",
       "    </tr>\n",
       "    <tr>\n",
       "      <th>23</th>\n",
       "      <td>Alabama</td>\n",
       "      <td>1991</td>\n",
       "      <td>723.9</td>\n",
       "      <td>261.5</td>\n",
       "      <td>123.2</td>\n",
       "      <td>14.3</td>\n",
       "      <td>12.6</td>\n",
       "      <td>260.2</td>\n",
       "      <td>22.2</td>\n",
       "      <td>54.2</td>\n",
       "      <td>...</td>\n",
       "      <td>0.0</td>\n",
       "      <td>144.8</td>\n",
       "      <td>0.0</td>\n",
       "      <td>0.1</td>\n",
       "      <td>0.0</td>\n",
       "      <td>257.2</td>\n",
       "      <td>-212.7</td>\n",
       "      <td>0.0</td>\n",
       "      <td>1,682.9</td>\n",
       "      <td>Hydroelectric Power</td>\n",
       "    </tr>\n",
       "    <tr>\n",
       "      <th>24</th>\n",
       "      <td>Alabama</td>\n",
       "      <td>1992</td>\n",
       "      <td>775.7</td>\n",
       "      <td>287.9</td>\n",
       "      <td>124.7</td>\n",
       "      <td>14.9</td>\n",
       "      <td>11.7</td>\n",
       "      <td>265.8</td>\n",
       "      <td>24.3</td>\n",
       "      <td>50.7</td>\n",
       "      <td>...</td>\n",
       "      <td>0.0</td>\n",
       "      <td>151.3</td>\n",
       "      <td>0.0</td>\n",
       "      <td>0.1</td>\n",
       "      <td>0.0</td>\n",
       "      <td>257.6</td>\n",
       "      <td>-263.0</td>\n",
       "      <td>0.0</td>\n",
       "      <td>1,753.5</td>\n",
       "      <td>Hydroelectric Power</td>\n",
       "    </tr>\n",
       "    <tr>\n",
       "      <th>25</th>\n",
       "      <td>Alabama</td>\n",
       "      <td>1993</td>\n",
       "      <td>812.9</td>\n",
       "      <td>302.2</td>\n",
       "      <td>122.3</td>\n",
       "      <td>18.9</td>\n",
       "      <td>11.0</td>\n",
       "      <td>270.5</td>\n",
       "      <td>25.2</td>\n",
       "      <td>51.3</td>\n",
       "      <td>...</td>\n",
       "      <td>0.0</td>\n",
       "      <td>176.2</td>\n",
       "      <td>0.0</td>\n",
       "      <td>0.1</td>\n",
       "      <td>0.0</td>\n",
       "      <td>269.5</td>\n",
       "      <td>-264.7</td>\n",
       "      <td>0.0</td>\n",
       "      <td>1,806.2</td>\n",
       "      <td>Hydroelectric Power</td>\n",
       "    </tr>\n",
       "    <tr>\n",
       "      <th>26</th>\n",
       "      <td>Alabama</td>\n",
       "      <td>1994</td>\n",
       "      <td>773.8</td>\n",
       "      <td>299.3</td>\n",
       "      <td>136.9</td>\n",
       "      <td>19.3</td>\n",
       "      <td>19.6</td>\n",
       "      <td>277.0</td>\n",
       "      <td>21.3</td>\n",
       "      <td>52.8</td>\n",
       "      <td>...</td>\n",
       "      <td>0.0</td>\n",
       "      <td>215.9</td>\n",
       "      <td>0.0</td>\n",
       "      <td>0.2</td>\n",
       "      <td>0.0</td>\n",
       "      <td>334.0</td>\n",
       "      <td>-249.5</td>\n",
       "      <td>0.0</td>\n",
       "      <td>1,898.4</td>\n",
       "      <td>Hydroelectric Power</td>\n",
       "    </tr>\n",
       "    <tr>\n",
       "      <th>27</th>\n",
       "      <td>Alabama</td>\n",
       "      <td>1995</td>\n",
       "      <td>828.3</td>\n",
       "      <td>332.4</td>\n",
       "      <td>137.7</td>\n",
       "      <td>19.2</td>\n",
       "      <td>21.8</td>\n",
       "      <td>287.4</td>\n",
       "      <td>19.6</td>\n",
       "      <td>51.7</td>\n",
       "      <td>...</td>\n",
       "      <td>0.0</td>\n",
       "      <td>224.0</td>\n",
       "      <td>0.0</td>\n",
       "      <td>0.1</td>\n",
       "      <td>0.0</td>\n",
       "      <td>322.1</td>\n",
       "      <td>-265.6</td>\n",
       "      <td>0.0</td>\n",
       "      <td>1,972.5</td>\n",
       "      <td>Hydroelectric Power</td>\n",
       "    </tr>\n",
       "    <tr>\n",
       "      <th>28</th>\n",
       "      <td>Alabama</td>\n",
       "      <td>1996</td>\n",
       "      <td>890.7</td>\n",
       "      <td>337.8</td>\n",
       "      <td>137.5</td>\n",
       "      <td>18.2</td>\n",
       "      <td>19.9</td>\n",
       "      <td>286.6</td>\n",
       "      <td>19.8</td>\n",
       "      <td>57.6</td>\n",
       "      <td>...</td>\n",
       "      <td>0.0</td>\n",
       "      <td>209.0</td>\n",
       "      <td>0.0</td>\n",
       "      <td>0.1</td>\n",
       "      <td>0.0</td>\n",
       "      <td>323.7</td>\n",
       "      <td>-398.8</td>\n",
       "      <td>0.0</td>\n",
       "      <td>2,005.0</td>\n",
       "      <td>Hydroelectric Power</td>\n",
       "    </tr>\n",
       "    <tr>\n",
       "      <th>29</th>\n",
       "      <td>Alabama</td>\n",
       "      <td>1997</td>\n",
       "      <td>867.3</td>\n",
       "      <td>337.4</td>\n",
       "      <td>134.2</td>\n",
       "      <td>16.2</td>\n",
       "      <td>12.4</td>\n",
       "      <td>290.1</td>\n",
       "      <td>16.0</td>\n",
       "      <td>56.7</td>\n",
       "      <td>...</td>\n",
       "      <td>0.0</td>\n",
       "      <td>182.2</td>\n",
       "      <td>0.0</td>\n",
       "      <td>0.1</td>\n",
       "      <td>0.0</td>\n",
       "      <td>300.0</td>\n",
       "      <td>-368.0</td>\n",
       "      <td>0.0</td>\n",
       "      <td>1,972.6</td>\n",
       "      <td>Hydroelectric Power</td>\n",
       "    </tr>\n",
       "    <tr>\n",
       "      <th>30</th>\n",
       "      <td>Alabama</td>\n",
       "      <td>1998</td>\n",
       "      <td>856.5</td>\n",
       "      <td>342.0</td>\n",
       "      <td>130.4</td>\n",
       "      <td>12.4</td>\n",
       "      <td>20.0</td>\n",
       "      <td>299.1</td>\n",
       "      <td>9.1</td>\n",
       "      <td>48.3</td>\n",
       "      <td>...</td>\n",
       "      <td>0.0</td>\n",
       "      <td>209.5</td>\n",
       "      <td>0.0</td>\n",
       "      <td>0.1</td>\n",
       "      <td>0.0</td>\n",
       "      <td>317.3</td>\n",
       "      <td>-317.3</td>\n",
       "      <td>0.0</td>\n",
       "      <td>2,018.5</td>\n",
       "      <td>Hydroelectric Power</td>\n",
       "    </tr>\n",
       "    <tr>\n",
       "      <th>31</th>\n",
       "      <td>Alabama</td>\n",
       "      <td>1999</td>\n",
       "      <td>866.5</td>\n",
       "      <td>349.1</td>\n",
       "      <td>140.0</td>\n",
       "      <td>26.5</td>\n",
       "      <td>11.1</td>\n",
       "      <td>300.6</td>\n",
       "      <td>9.2</td>\n",
       "      <td>49.7</td>\n",
       "      <td>...</td>\n",
       "      <td>0.0</td>\n",
       "      <td>210.7</td>\n",
       "      <td>0.1</td>\n",
       "      <td>0.1</td>\n",
       "      <td>0.0</td>\n",
       "      <td>290.2</td>\n",
       "      <td>-304.3</td>\n",
       "      <td>0.0</td>\n",
       "      <td>2,061.5</td>\n",
       "      <td>Hydroelectric Power</td>\n",
       "    </tr>\n",
       "    <tr>\n",
       "      <th>32</th>\n",
       "      <td>Alabama</td>\n",
       "      <td>2000</td>\n",
       "      <td>904.2</td>\n",
       "      <td>368.5</td>\n",
       "      <td>143.2</td>\n",
       "      <td>27.9</td>\n",
       "      <td>13.3</td>\n",
       "      <td>298.0</td>\n",
       "      <td>26.6</td>\n",
       "      <td>51.6</td>\n",
       "      <td>...</td>\n",
       "      <td>0.0</td>\n",
       "      <td>203.8</td>\n",
       "      <td>0.1</td>\n",
       "      <td>0.1</td>\n",
       "      <td>0.0</td>\n",
       "      <td>263.3</td>\n",
       "      <td>-312.0</td>\n",
       "      <td>0.0</td>\n",
       "      <td>2,111.7</td>\n",
       "      <td>Hydroelectric Power</td>\n",
       "    </tr>\n",
       "    <tr>\n",
       "      <th>33</th>\n",
       "      <td>Alabama</td>\n",
       "      <td>2001</td>\n",
       "      <td>842.3</td>\n",
       "      <td>344.0</td>\n",
       "      <td>135.8</td>\n",
       "      <td>26.8</td>\n",
       "      <td>13.3</td>\n",
       "      <td>299.6</td>\n",
       "      <td>9.5</td>\n",
       "      <td>50.8</td>\n",
       "      <td>...</td>\n",
       "      <td>0.0</td>\n",
       "      <td>166.3</td>\n",
       "      <td>0.1</td>\n",
       "      <td>0.1</td>\n",
       "      <td>0.0</td>\n",
       "      <td>252.8</td>\n",
       "      <td>-373.9</td>\n",
       "      <td>0.0</td>\n",
       "      <td>1,918.0</td>\n",
       "      <td>Hydroelectric Power</td>\n",
       "    </tr>\n",
       "    <tr>\n",
       "      <th>34</th>\n",
       "      <td>Alabama</td>\n",
       "      <td>2002</td>\n",
       "      <td>846.0</td>\n",
       "      <td>390.0</td>\n",
       "      <td>132.2</td>\n",
       "      <td>19.9</td>\n",
       "      <td>12.8</td>\n",
       "      <td>320.2</td>\n",
       "      <td>25.1</td>\n",
       "      <td>53.2</td>\n",
       "      <td>...</td>\n",
       "      <td>0.0</td>\n",
       "      <td>163.6</td>\n",
       "      <td>0.1</td>\n",
       "      <td>0.1</td>\n",
       "      <td>0.0</td>\n",
       "      <td>253.6</td>\n",
       "      <td>-406.6</td>\n",
       "      <td>0.0</td>\n",
       "      <td>1,978.9</td>\n",
       "      <td>Hydroelectric Power</td>\n",
       "    </tr>\n",
       "    <tr>\n",
       "      <th>35</th>\n",
       "      <td>Alabama</td>\n",
       "      <td>2003</td>\n",
       "      <td>873.7</td>\n",
       "      <td>360.5</td>\n",
       "      <td>162.7</td>\n",
       "      <td>15.8</td>\n",
       "      <td>14.6</td>\n",
       "      <td>306.8</td>\n",
       "      <td>8.1</td>\n",
       "      <td>54.3</td>\n",
       "      <td>...</td>\n",
       "      <td>0.0</td>\n",
       "      <td>156.3</td>\n",
       "      <td>0.1</td>\n",
       "      <td>0.1</td>\n",
       "      <td>0.0</td>\n",
       "      <td>284.7</td>\n",
       "      <td>-441.0</td>\n",
       "      <td>0.0</td>\n",
       "      <td>1,970.2</td>\n",
       "      <td>Hydroelectric Power</td>\n",
       "    </tr>\n",
       "    <tr>\n",
       "      <th>36</th>\n",
       "      <td>Alabama</td>\n",
       "      <td>2004</td>\n",
       "      <td>853.9</td>\n",
       "      <td>391.9</td>\n",
       "      <td>182.2</td>\n",
       "      <td>16.8</td>\n",
       "      <td>14.5</td>\n",
       "      <td>320.6</td>\n",
       "      <td>10.7</td>\n",
       "      <td>65.6</td>\n",
       "      <td>...</td>\n",
       "      <td>0.0</td>\n",
       "      <td>186.7</td>\n",
       "      <td>0.1</td>\n",
       "      <td>0.1</td>\n",
       "      <td>0.0</td>\n",
       "      <td>293.2</td>\n",
       "      <td>-395.9</td>\n",
       "      <td>0.0</td>\n",
       "      <td>2,083.5</td>\n",
       "      <td>Hydroelectric Power</td>\n",
       "    </tr>\n",
       "    <tr>\n",
       "      <th>37</th>\n",
       "      <td>Alabama</td>\n",
       "      <td>2005</td>\n",
       "      <td>890.1</td>\n",
       "      <td>363.4</td>\n",
       "      <td>173.9</td>\n",
       "      <td>11.3</td>\n",
       "      <td>14.0</td>\n",
       "      <td>326.6</td>\n",
       "      <td>11.2</td>\n",
       "      <td>70.3</td>\n",
       "      <td>...</td>\n",
       "      <td>0.0</td>\n",
       "      <td>178.2</td>\n",
       "      <td>0.1</td>\n",
       "      <td>0.1</td>\n",
       "      <td>0.0</td>\n",
       "      <td>279.8</td>\n",
       "      <td>-406.3</td>\n",
       "      <td>0.0</td>\n",
       "      <td>2,065.0</td>\n",
       "      <td>Hydroelectric Power</td>\n",
       "    </tr>\n",
       "    <tr>\n",
       "      <th>38</th>\n",
       "      <td>Alabama</td>\n",
       "      <td>2006</td>\n",
       "      <td>886.7</td>\n",
       "      <td>402.0</td>\n",
       "      <td>174.3</td>\n",
       "      <td>12.7</td>\n",
       "      <td>13.1</td>\n",
       "      <td>329.3</td>\n",
       "      <td>14.2</td>\n",
       "      <td>68.2</td>\n",
       "      <td>...</td>\n",
       "      <td>0.0</td>\n",
       "      <td>194.2</td>\n",
       "      <td>0.1</td>\n",
       "      <td>0.1</td>\n",
       "      <td>0.0</td>\n",
       "      <td>266.3</td>\n",
       "      <td>-397.3</td>\n",
       "      <td>0.0</td>\n",
       "      <td>2,102.5</td>\n",
       "      <td>Hydroelectric Power</td>\n",
       "    </tr>\n",
       "    <tr>\n",
       "      <th>39</th>\n",
       "      <td>Alabama</td>\n",
       "      <td>2007</td>\n",
       "      <td>888.4</td>\n",
       "      <td>430.6</td>\n",
       "      <td>169.4</td>\n",
       "      <td>14.6</td>\n",
       "      <td>13.2</td>\n",
       "      <td>331.0</td>\n",
       "      <td>13.6</td>\n",
       "      <td>60.5</td>\n",
       "      <td>...</td>\n",
       "      <td>0.0</td>\n",
       "      <td>187.6</td>\n",
       "      <td>0.1</td>\n",
       "      <td>0.1</td>\n",
       "      <td>0.0</td>\n",
       "      <td>228.6</td>\n",
       "      <td>-423.7</td>\n",
       "      <td>0.0</td>\n",
       "      <td>2,086.3</td>\n",
       "      <td>Hydroelectric Power</td>\n",
       "    </tr>\n",
       "    <tr>\n",
       "      <th>40</th>\n",
       "      <td>Alabama</td>\n",
       "      <td>2008</td>\n",
       "      <td>842.8</td>\n",
       "      <td>414.3</td>\n",
       "      <td>152.4</td>\n",
       "      <td>13.7</td>\n",
       "      <td>12.3</td>\n",
       "      <td>316.7</td>\n",
       "      <td>13.6</td>\n",
       "      <td>58.9</td>\n",
       "      <td>...</td>\n",
       "      <td>0.0</td>\n",
       "      <td>176.5</td>\n",
       "      <td>0.1</td>\n",
       "      <td>0.1</td>\n",
       "      <td>0.0</td>\n",
       "      <td>237.1</td>\n",
       "      <td>-465.7</td>\n",
       "      <td>0.0</td>\n",
       "      <td>2,003.8</td>\n",
       "      <td>Hydroelectric Power</td>\n",
       "    </tr>\n",
       "    <tr>\n",
       "      <th>41</th>\n",
       "      <td>Alabama</td>\n",
       "      <td>2009</td>\n",
       "      <td>631.0</td>\n",
       "      <td>466.3</td>\n",
       "      <td>139.9</td>\n",
       "      <td>12.1</td>\n",
       "      <td>9.9</td>\n",
       "      <td>310.3</td>\n",
       "      <td>7.1</td>\n",
       "      <td>39.8</td>\n",
       "      <td>...</td>\n",
       "      <td>0.0</td>\n",
       "      <td>151.1</td>\n",
       "      <td>0.1</td>\n",
       "      <td>0.1</td>\n",
       "      <td>0.0</td>\n",
       "      <td>273.6</td>\n",
       "      <td>-504.5</td>\n",
       "      <td>0.0</td>\n",
       "      <td>1,800.9</td>\n",
       "      <td>Hydroelectric Power</td>\n",
       "    </tr>\n",
       "    <tr>\n",
       "      <th>42</th>\n",
       "      <td>Alabama</td>\n",
       "      <td>2010</td>\n",
       "      <td>718.7</td>\n",
       "      <td>544.4</td>\n",
       "      <td>148.0</td>\n",
       "      <td>13.3</td>\n",
       "      <td>11.9</td>\n",
       "      <td>298.0</td>\n",
       "      <td>10.3</td>\n",
       "      <td>41.0</td>\n",
       "      <td>...</td>\n",
       "      <td>0.0</td>\n",
       "      <td>179.1</td>\n",
       "      <td>0.1</td>\n",
       "      <td>0.1</td>\n",
       "      <td>0.0</td>\n",
       "      <td>264.2</td>\n",
       "      <td>-505.0</td>\n",
       "      <td>0.0</td>\n",
       "      <td>1,941.4</td>\n",
       "      <td>Hydroelectric Power</td>\n",
       "    </tr>\n",
       "    <tr>\n",
       "      <th>43</th>\n",
       "      <td>Alabama</td>\n",
       "      <td>2011</td>\n",
       "      <td>651.0</td>\n",
       "      <td>609.3</td>\n",
       "      <td>155.5</td>\n",
       "      <td>10.7</td>\n",
       "      <td>13.4</td>\n",
       "      <td>289.1</td>\n",
       "      <td>13.4</td>\n",
       "      <td>41.6</td>\n",
       "      <td>...</td>\n",
       "      <td>0.0</td>\n",
       "      <td>190.3</td>\n",
       "      <td>0.1</td>\n",
       "      <td>0.1</td>\n",
       "      <td>0.0</td>\n",
       "      <td>276.9</td>\n",
       "      <td>-556.6</td>\n",
       "      <td>0.0</td>\n",
       "      <td>1,916.0</td>\n",
       "      <td>Hydroelectric Power</td>\n",
       "    </tr>\n",
       "    <tr>\n",
       "      <th>44</th>\n",
       "      <td>Alabama</td>\n",
       "      <td>2012</td>\n",
       "      <td>547.0</td>\n",
       "      <td>677.4</td>\n",
       "      <td>156.7</td>\n",
       "      <td>8.7</td>\n",
       "      <td>12.4</td>\n",
       "      <td>285.8</td>\n",
       "      <td>11.5</td>\n",
       "      <td>40.7</td>\n",
       "      <td>...</td>\n",
       "      <td>0.0</td>\n",
       "      <td>192.1</td>\n",
       "      <td>0.1</td>\n",
       "      <td>0.1</td>\n",
       "      <td>0.0</td>\n",
       "      <td>263.1</td>\n",
       "      <td>-541.5</td>\n",
       "      <td>0.0</td>\n",
       "      <td>1,889.8</td>\n",
       "      <td>Hydroelectric Power</td>\n",
       "    </tr>\n",
       "    <tr>\n",
       "      <th>45</th>\n",
       "      <td>Alabama</td>\n",
       "      <td>2013</td>\n",
       "      <td>565.1</td>\n",
       "      <td>625.9</td>\n",
       "      <td>145.2</td>\n",
       "      <td>9.1</td>\n",
       "      <td>13.2</td>\n",
       "      <td>288.0</td>\n",
       "      <td>6.9</td>\n",
       "      <td>35.9</td>\n",
       "      <td>...</td>\n",
       "      <td>0.0</td>\n",
       "      <td>209.2</td>\n",
       "      <td>0.1</td>\n",
       "      <td>0.1</td>\n",
       "      <td>0.0</td>\n",
       "      <td>332.5</td>\n",
       "      <td>-514.4</td>\n",
       "      <td>0.0</td>\n",
       "      <td>1,933.9</td>\n",
       "      <td>Hydroelectric Power</td>\n",
       "    </tr>\n",
       "    <tr>\n",
       "      <th>46</th>\n",
       "      <td>Alabama</td>\n",
       "      <td>2014</td>\n",
       "      <td>575.9</td>\n",
       "      <td>650.6</td>\n",
       "      <td>143.5</td>\n",
       "      <td>9.1</td>\n",
       "      <td>14.2</td>\n",
       "      <td>287.5</td>\n",
       "      <td>7.7</td>\n",
       "      <td>34.9</td>\n",
       "      <td>...</td>\n",
       "      <td>0.0</td>\n",
       "      <td>200.5</td>\n",
       "      <td>0.1</td>\n",
       "      <td>0.1</td>\n",
       "      <td>0.0</td>\n",
       "      <td>290.7</td>\n",
       "      <td>-475.0</td>\n",
       "      <td>0.0</td>\n",
       "      <td>1,970.5</td>\n",
       "      <td>Hydroelectric Power</td>\n",
       "    </tr>\n",
       "    <tr>\n",
       "      <th>47</th>\n",
       "      <td>Alabama</td>\n",
       "      <td>2015</td>\n",
       "      <td>494.3</td>\n",
       "      <td>701.6</td>\n",
       "      <td>153.8</td>\n",
       "      <td>9.0</td>\n",
       "      <td>17.8</td>\n",
       "      <td>300.1</td>\n",
       "      <td>6.8</td>\n",
       "      <td>35.9</td>\n",
       "      <td>...</td>\n",
       "      <td>0.0</td>\n",
       "      <td>192.3</td>\n",
       "      <td>0.1</td>\n",
       "      <td>0.1</td>\n",
       "      <td>0.0</td>\n",
       "      <td>284.4</td>\n",
       "      <td>-514.0</td>\n",
       "      <td>0.0</td>\n",
       "      <td>1,928.5</td>\n",
       "      <td>Hydroelectric Power</td>\n",
       "    </tr>\n",
       "    <tr>\n",
       "      <th>48</th>\n",
       "      <td>Alabama</td>\n",
       "      <td>2016</td>\n",
       "      <td>410.2</td>\n",
       "      <td>715.7</td>\n",
       "      <td>169.4</td>\n",
       "      <td>8.6</td>\n",
       "      <td>18.0</td>\n",
       "      <td>309.1</td>\n",
       "      <td>11.9</td>\n",
       "      <td>36.3</td>\n",
       "      <td>...</td>\n",
       "      <td>0.0</td>\n",
       "      <td>191.0</td>\n",
       "      <td>0.1</td>\n",
       "      <td>0.4</td>\n",
       "      <td>0.0</td>\n",
       "      <td>256.1</td>\n",
       "      <td>-419.0</td>\n",
       "      <td>0.0</td>\n",
       "      <td>1,933.6</td>\n",
       "      <td>Hydroelectric Power</td>\n",
       "    </tr>\n",
       "  </tbody>\n",
       "</table>\n",
       "<p>49 rows × 28 columns</p>\n",
       "</div>"
      ],
      "text/plain": [
       "      State  Year   Coal Natural Gas exluding supplemental gaseous fuels  \\\n",
       "0   Alabama  1960  395.4                                           190.7   \n",
       "1   Alabama  1965  533.1                                           236.9   \n",
       "2   Alabama  1970  675.6                                           307.8   \n",
       "3   Alabama  1971  626.1                                           294.8   \n",
       "4   Alabama  1972  669.7                                           287.1   \n",
       "5   Alabama  1973  688.7                                           280.0   \n",
       "6   Alabama  1974  653.4                                           282.5   \n",
       "7   Alabama  1975  640.1                                           271.7   \n",
       "8   Alabama  1976  632.1                                           232.8   \n",
       "9   Alabama  1977  629.4                                           248.7   \n",
       "10  Alabama  1978  577.6                                           245.0   \n",
       "11  Alabama  1979  670.2                                           291.5   \n",
       "12  Alabama  1980  661.0                                           278.3   \n",
       "13  Alabama  1981  630.0                                           281.0   \n",
       "14  Alabama  1982  511.1                                           253.4   \n",
       "15  Alabama  1983  532.6                                           230.0   \n",
       "16  Alabama  1984  584.6                                           239.6   \n",
       "17  Alabama  1985  662.9                                           227.8   \n",
       "18  Alabama  1986  660.5                                           210.2   \n",
       "19  Alabama  1987  660.7                                           214.6   \n",
       "20  Alabama  1988  652.7                                           243.2   \n",
       "21  Alabama  1989  682.1                                           253.6   \n",
       "22  Alabama  1990  682.5                                           252.1   \n",
       "23  Alabama  1991  723.9                                           261.5   \n",
       "24  Alabama  1992  775.7                                           287.9   \n",
       "25  Alabama  1993  812.9                                           302.2   \n",
       "26  Alabama  1994  773.8                                           299.3   \n",
       "27  Alabama  1995  828.3                                           332.4   \n",
       "28  Alabama  1996  890.7                                           337.8   \n",
       "29  Alabama  1997  867.3                                           337.4   \n",
       "30  Alabama  1998  856.5                                           342.0   \n",
       "31  Alabama  1999  866.5                                           349.1   \n",
       "32  Alabama  2000  904.2                                           368.5   \n",
       "33  Alabama  2001  842.3                                           344.0   \n",
       "34  Alabama  2002  846.0                                           390.0   \n",
       "35  Alabama  2003  873.7                                           360.5   \n",
       "36  Alabama  2004  853.9                                           391.9   \n",
       "37  Alabama  2005  890.1                                           363.4   \n",
       "38  Alabama  2006  886.7                                           402.0   \n",
       "39  Alabama  2007  888.4                                           430.6   \n",
       "40  Alabama  2008  842.8                                           414.3   \n",
       "41  Alabama  2009  631.0                                           466.3   \n",
       "42  Alabama  2010  718.7                                           544.4   \n",
       "43  Alabama  2011  651.0                                           609.3   \n",
       "44  Alabama  2012  547.0                                           677.4   \n",
       "45  Alabama  2013  565.1                                           625.9   \n",
       "46  Alabama  2014  575.9                                           650.6   \n",
       "47  Alabama  2015  494.3                                           701.6   \n",
       "48  Alabama  2016  410.2                                           715.7   \n",
       "\n",
       "   Distillate Fuel Oil   HGL Jet Fuel Motor gasoline excluding Fuel Ethanol  \\\n",
       "0                 31.4  12.5      6.1                                 129.1   \n",
       "1                 30.6  16.5      6.2                                 151.9   \n",
       "2                 49.6  28.9      9.9                                 194.4   \n",
       "3                 51.6  30.6      9.8                                 205.2   \n",
       "4                 70.4  34.2      9.4                                 217.4   \n",
       "5                 84.0  32.2      9.3                                 229.5   \n",
       "6                 87.8  27.0      9.4                                 231.7   \n",
       "7                 85.6  24.7      9.4                                 237.3   \n",
       "8                106.4  27.2      9.1                                 249.3   \n",
       "9                115.2  29.4      9.8                                 258.3   \n",
       "10               120.0  25.8      9.9                                 266.4   \n",
       "11                87.7  21.5      9.5                                 251.7   \n",
       "12                88.5  18.6     11.3                                 232.7   \n",
       "13               104.5  17.2      9.7                                 226.0   \n",
       "14                89.8  16.5      8.7                                 225.6   \n",
       "15                89.6  16.8      9.1                                 227.9   \n",
       "16                83.2  12.7     20.7                                 232.1   \n",
       "17                84.6  13.7     19.7                                 228.4   \n",
       "18                85.4  15.2     21.0                                 244.0   \n",
       "19                93.4  17.6     21.7                                 254.9   \n",
       "20               103.7  16.8     10.4                                 256.1   \n",
       "21               124.2  18.1     11.4                                 260.0   \n",
       "22               125.7  15.7     10.6                                 258.4   \n",
       "23               123.2  14.3     12.6                                 260.2   \n",
       "24               124.7  14.9     11.7                                 265.8   \n",
       "25               122.3  18.9     11.0                                 270.5   \n",
       "26               136.9  19.3     19.6                                 277.0   \n",
       "27               137.7  19.2     21.8                                 287.4   \n",
       "28               137.5  18.2     19.9                                 286.6   \n",
       "29               134.2  16.2     12.4                                 290.1   \n",
       "30               130.4  12.4     20.0                                 299.1   \n",
       "31               140.0  26.5     11.1                                 300.6   \n",
       "32               143.2  27.9     13.3                                 298.0   \n",
       "33               135.8  26.8     13.3                                 299.6   \n",
       "34               132.2  19.9     12.8                                 320.2   \n",
       "35               162.7  15.8     14.6                                 306.8   \n",
       "36               182.2  16.8     14.5                                 320.6   \n",
       "37               173.9  11.3     14.0                                 326.6   \n",
       "38               174.3  12.7     13.1                                 329.3   \n",
       "39               169.4  14.6     13.2                                 331.0   \n",
       "40               152.4  13.7     12.3                                 316.7   \n",
       "41               139.9  12.1      9.9                                 310.3   \n",
       "42               148.0  13.3     11.9                                 298.0   \n",
       "43               155.5  10.7     13.4                                 289.1   \n",
       "44               156.7   8.7     12.4                                 285.8   \n",
       "45               145.2   9.1     13.2                                 288.0   \n",
       "46               143.5   9.1     14.2                                 287.5   \n",
       "47               153.8   9.0     17.8                                 300.1   \n",
       "48               169.4   8.6     18.0                                 309.1   \n",
       "\n",
       "   Residual Fuel Oil  Other         ...          Losses and co-products  \\\n",
       "0               27.0   30.2         ...                             0.0   \n",
       "1               16.0   41.0         ...                             0.0   \n",
       "2               20.7   48.7         ...                             0.0   \n",
       "3               16.7   51.2         ...                             0.0   \n",
       "4               19.7   54.2         ...                             0.0   \n",
       "5               38.4   57.3         ...                             0.0   \n",
       "6               64.9   55.6         ...                             0.0   \n",
       "7               81.4   49.5         ...                             0.0   \n",
       "8               89.6   51.4         ...                             0.0   \n",
       "9              102.5   58.5         ...                             0.0   \n",
       "10              93.9   61.9         ...                             0.0   \n",
       "11              64.4   56.8         ...                             0.0   \n",
       "12              45.9   53.6         ...                             0.0   \n",
       "13              29.2   58.0         ...                             0.0   \n",
       "14              38.5   61.3         ...                             0.0   \n",
       "15              21.8   50.5         ...                             0.0   \n",
       "16              17.0   49.8         ...                             0.0   \n",
       "17              14.1   49.7         ...                             0.0   \n",
       "18              15.5   44.4         ...                             0.0   \n",
       "19              15.3   57.9         ...                             0.0   \n",
       "20              21.6   55.3         ...                             0.0   \n",
       "21              22.9   51.6         ...                             0.0   \n",
       "22              24.6   48.0         ...                             0.0   \n",
       "23              22.2   54.2         ...                             0.0   \n",
       "24              24.3   50.7         ...                             0.0   \n",
       "25              25.2   51.3         ...                             0.0   \n",
       "26              21.3   52.8         ...                             0.0   \n",
       "27              19.6   51.7         ...                             0.0   \n",
       "28              19.8   57.6         ...                             0.0   \n",
       "29              16.0   56.7         ...                             0.0   \n",
       "30               9.1   48.3         ...                             0.0   \n",
       "31               9.2   49.7         ...                             0.0   \n",
       "32              26.6   51.6         ...                             0.0   \n",
       "33               9.5   50.8         ...                             0.0   \n",
       "34              25.1   53.2         ...                             0.0   \n",
       "35               8.1   54.3         ...                             0.0   \n",
       "36              10.7   65.6         ...                             0.0   \n",
       "37              11.2   70.3         ...                             0.0   \n",
       "38              14.2   68.2         ...                             0.0   \n",
       "39              13.6   60.5         ...                             0.0   \n",
       "40              13.6   58.9         ...                             0.0   \n",
       "41               7.1   39.8         ...                             0.0   \n",
       "42              10.3   41.0         ...                             0.0   \n",
       "43              13.4   41.6         ...                             0.0   \n",
       "44              11.5   40.7         ...                             0.0   \n",
       "45               6.9   35.9         ...                             0.0   \n",
       "46               7.7   34.9         ...                             0.0   \n",
       "47               6.8   35.9         ...                             0.0   \n",
       "48              11.9   36.3         ...                             0.0   \n",
       "\n",
       "   Total_biomass Geothermal Solar Wind Total_renewable  \\\n",
       "0           45.7        0.0     0  0.0           112.8   \n",
       "1           47.6        0.0     0  0.0           121.9   \n",
       "2           52.4        0.0     0  0.0           132.5   \n",
       "3           54.1        0.0     0  0.0           158.2   \n",
       "4           58.7        0.0     0  0.0           164.9   \n",
       "5           59.1        0.0     0  0.0           181.7   \n",
       "6           58.5        0.0     0  0.0           166.7   \n",
       "7           57.6        0.0     0  0.0           184.7   \n",
       "8           62.9        0.0     0  0.0           161.0   \n",
       "9           66.7        0.0     0  0.0           174.8   \n",
       "10          66.6        0.0     0  0.0           148.3   \n",
       "11          67.9        0.0     0  0.0           190.7   \n",
       "12         141.0        0.0     0  0.0           238.8   \n",
       "13         150.2        0.0     0  0.0           213.4   \n",
       "14         153.4        0.0     0  0.0           265.5   \n",
       "15         164.7        0.0     0  0.0           282.2   \n",
       "16         175.4        0.0   0.0  0.0           288.1   \n",
       "17         176.7        0.0   0.0  0.0           248.6   \n",
       "18         160.9        0.0   0.0  0.0           215.8   \n",
       "19         155.7        0.0   0.0  0.0           233.5   \n",
       "20         161.0        0.0   0.0  0.0           216.6   \n",
       "21         167.0        0.0   0.1  0.0           304.4   \n",
       "22         145.3        0.0   0.1  0.0           253.3   \n",
       "23         144.8        0.0   0.1  0.0           257.2   \n",
       "24         151.3        0.0   0.1  0.0           257.6   \n",
       "25         176.2        0.0   0.1  0.0           269.5   \n",
       "26         215.9        0.0   0.2  0.0           334.0   \n",
       "27         224.0        0.0   0.1  0.0           322.1   \n",
       "28         209.0        0.0   0.1  0.0           323.7   \n",
       "29         182.2        0.0   0.1  0.0           300.0   \n",
       "30         209.5        0.0   0.1  0.0           317.3   \n",
       "31         210.7        0.1   0.1  0.0           290.2   \n",
       "32         203.8        0.1   0.1  0.0           263.3   \n",
       "33         166.3        0.1   0.1  0.0           252.8   \n",
       "34         163.6        0.1   0.1  0.0           253.6   \n",
       "35         156.3        0.1   0.1  0.0           284.7   \n",
       "36         186.7        0.1   0.1  0.0           293.2   \n",
       "37         178.2        0.1   0.1  0.0           279.8   \n",
       "38         194.2        0.1   0.1  0.0           266.3   \n",
       "39         187.6        0.1   0.1  0.0           228.6   \n",
       "40         176.5        0.1   0.1  0.0           237.1   \n",
       "41         151.1        0.1   0.1  0.0           273.6   \n",
       "42         179.1        0.1   0.1  0.0           264.2   \n",
       "43         190.3        0.1   0.1  0.0           276.9   \n",
       "44         192.1        0.1   0.1  0.0           263.1   \n",
       "45         209.2        0.1   0.1  0.0           332.5   \n",
       "46         200.5        0.1   0.1  0.0           290.7   \n",
       "47         192.3        0.1   0.1  0.0           284.4   \n",
       "48         191.0        0.1   0.4  0.0           256.1   \n",
       "\n",
       "   Interstate flow of Electricity Net Electricity Imports     Total  \\\n",
       "0                           -68.3                     0.0     866.9   \n",
       "1                          -109.3                     0.0   1,045.0   \n",
       "2                           -74.4                     0.0   1,393.6   \n",
       "3                           -59.1                     0.0   1,385.1   \n",
       "4                           -48.9                     0.0   1,478.2   \n",
       "5                           -77.1                     0.0   1,527.4   \n",
       "6                          -101.3                     0.0   1,547.8   \n",
       "7                           -99.2                     0.0   1,515.3   \n",
       "8                           -53.5                     0.0   1,552.0   \n",
       "9                          -213.2                     0.0   1,623.7   \n",
       "10                         -160.0                     0.0   1,638.6   \n",
       "11                         -235.3                     0.0   1,649.1   \n",
       "12                         -239.9                     0.0   1,645.1   \n",
       "13                         -225.6                     0.0   1,604.2   \n",
       "14                         -278.0                     0.0   1,499.2   \n",
       "15                         -288.6                     0.0   1,446.1   \n",
       "16                         -245.8                     0.0   1,544.7   \n",
       "17                         -181.7                     0.0   1,519.8   \n",
       "18                         -129.4                     0.0   1,504.8   \n",
       "19                         -104.3                     0.0   1,582.7   \n",
       "20                          -62.1                     0.0   1,651.8   \n",
       "21                         -166.8                     0.0   1,683.3   \n",
       "22                         -132.9                     0.0   1,665.5   \n",
       "23                         -212.7                     0.0   1,682.9   \n",
       "24                         -263.0                     0.0   1,753.5   \n",
       "25                         -264.7                     0.0   1,806.2   \n",
       "26                         -249.5                     0.0   1,898.4   \n",
       "27                         -265.6                     0.0   1,972.5   \n",
       "28                         -398.8                     0.0   2,005.0   \n",
       "29                         -368.0                     0.0   1,972.6   \n",
       "30                         -317.3                     0.0   2,018.5   \n",
       "31                         -304.3                     0.0   2,061.5   \n",
       "32                         -312.0                     0.0   2,111.7   \n",
       "33                         -373.9                     0.0   1,918.0   \n",
       "34                         -406.6                     0.0   1,978.9   \n",
       "35                         -441.0                     0.0   1,970.2   \n",
       "36                         -395.9                     0.0   2,083.5   \n",
       "37                         -406.3                     0.0   2,065.0   \n",
       "38                         -397.3                     0.0   2,102.5   \n",
       "39                         -423.7                     0.0   2,086.3   \n",
       "40                         -465.7                     0.0   2,003.8   \n",
       "41                         -504.5                     0.0   1,800.9   \n",
       "42                         -505.0                     0.0   1,941.4   \n",
       "43                         -556.6                     0.0   1,916.0   \n",
       "44                         -541.5                     0.0   1,889.8   \n",
       "45                         -514.4                     0.0   1,933.9   \n",
       "46                         -475.0                     0.0   1,970.5   \n",
       "47                         -514.0                     0.0   1,928.5   \n",
       "48                         -419.0                     0.0   1,933.6   \n",
       "\n",
       "           Max_Ren_Type  \n",
       "0   Hydroelectric Power  \n",
       "1   Hydroelectric Power  \n",
       "2   Hydroelectric Power  \n",
       "3   Hydroelectric Power  \n",
       "4   Hydroelectric Power  \n",
       "5   Hydroelectric Power  \n",
       "6   Hydroelectric Power  \n",
       "7   Hydroelectric Power  \n",
       "8   Hydroelectric Power  \n",
       "9   Hydroelectric Power  \n",
       "10  Hydroelectric Power  \n",
       "11  Hydroelectric Power  \n",
       "12  Hydroelectric Power  \n",
       "13  Hydroelectric Power  \n",
       "14  Hydroelectric Power  \n",
       "15  Hydroelectric Power  \n",
       "16  Hydroelectric Power  \n",
       "17  Hydroelectric Power  \n",
       "18  Hydroelectric Power  \n",
       "19  Hydroelectric Power  \n",
       "20  Hydroelectric Power  \n",
       "21  Hydroelectric Power  \n",
       "22  Hydroelectric Power  \n",
       "23  Hydroelectric Power  \n",
       "24  Hydroelectric Power  \n",
       "25  Hydroelectric Power  \n",
       "26  Hydroelectric Power  \n",
       "27  Hydroelectric Power  \n",
       "28  Hydroelectric Power  \n",
       "29  Hydroelectric Power  \n",
       "30  Hydroelectric Power  \n",
       "31  Hydroelectric Power  \n",
       "32  Hydroelectric Power  \n",
       "33  Hydroelectric Power  \n",
       "34  Hydroelectric Power  \n",
       "35  Hydroelectric Power  \n",
       "36  Hydroelectric Power  \n",
       "37  Hydroelectric Power  \n",
       "38  Hydroelectric Power  \n",
       "39  Hydroelectric Power  \n",
       "40  Hydroelectric Power  \n",
       "41  Hydroelectric Power  \n",
       "42  Hydroelectric Power  \n",
       "43  Hydroelectric Power  \n",
       "44  Hydroelectric Power  \n",
       "45  Hydroelectric Power  \n",
       "46  Hydroelectric Power  \n",
       "47  Hydroelectric Power  \n",
       "48  Hydroelectric Power  \n",
       "\n",
       "[49 rows x 28 columns]"
      ]
     },
     "execution_count": 123,
     "metadata": {},
     "output_type": "execute_result"
    }
   ],
   "source": [
    "data[data.State == 'Alabama']"
   ]
  },
  {
   "cell_type": "code",
   "execution_count": 117,
   "metadata": {},
   "outputs": [],
   "source": [
    "data.to_csv('Renewable_Energy_new.csv',index=False)"
   ]
  },
  {
   "cell_type": "markdown",
   "metadata": {},
   "source": [
    "## TWITTER"
   ]
  },
  {
   "cell_type": "code",
   "execution_count": 3,
   "metadata": {},
   "outputs": [],
   "source": [
    "data_tweets = pd.read_csv('fossil_tweets.csv')"
   ]
  },
  {
   "cell_type": "code",
   "execution_count": 4,
   "metadata": {},
   "outputs": [
    {
     "data": {
      "text/html": [
       "<div>\n",
       "<style scoped>\n",
       "    .dataframe tbody tr th:only-of-type {\n",
       "        vertical-align: middle;\n",
       "    }\n",
       "\n",
       "    .dataframe tbody tr th {\n",
       "        vertical-align: top;\n",
       "    }\n",
       "\n",
       "    .dataframe thead th {\n",
       "        text-align: right;\n",
       "    }\n",
       "</style>\n",
       "<table border=\"1\" class=\"dataframe\">\n",
       "  <thead>\n",
       "    <tr style=\"text-align: right;\">\n",
       "      <th></th>\n",
       "      <th>Year</th>\n",
       "      <th>user_id</th>\n",
       "      <th>tweet</th>\n",
       "      <th>features__name</th>\n",
       "      <th>features__id</th>\n",
       "      <th>features__screen_name</th>\n",
       "      <th>features__tweets</th>\n",
       "      <th>features__location</th>\n",
       "      <th>features__primary_geo</th>\n",
       "      <th>features__geo_type</th>\n",
       "      <th>state</th>\n",
       "    </tr>\n",
       "  </thead>\n",
       "  <tbody>\n",
       "    <tr>\n",
       "      <th>0</th>\n",
       "      <td>2015</td>\n",
       "      <td>47043733.0</td>\n",
       "      <td>Adios 2015 / Adieu Fossil Fuels...con los mejo...</td>\n",
       "      <td>Fernando Comas</td>\n",
       "      <td>47043733.0</td>\n",
       "      <td>fecove</td>\n",
       "      <td>1</td>\n",
       "      <td>Asturias España</td>\n",
       "      <td>Asturias España</td>\n",
       "      <td>User location</td>\n",
       "      <td>NaN</td>\n",
       "    </tr>\n",
       "    <tr>\n",
       "      <th>1</th>\n",
       "      <td>2015</td>\n",
       "      <td>14304664.0</td>\n",
       "      <td>Temperature went above zero at the North Pole ...</td>\n",
       "      <td>Cameron MacLeod 🇨🇦🏳️‍🌈🚊👨‍👨‍👦</td>\n",
       "      <td>14304664.0</td>\n",
       "      <td>c_9</td>\n",
       "      <td>1</td>\n",
       "      <td>Toronto, most of the time.</td>\n",
       "      <td>Toronto, most of the time.</td>\n",
       "      <td>User location</td>\n",
       "      <td>NaN</td>\n",
       "    </tr>\n",
       "    <tr>\n",
       "      <th>2</th>\n",
       "      <td>2015</td>\n",
       "      <td>63508890.0</td>\n",
       "      <td>Beef = a hummer at 12 mpg, pork = a hybrid at ...</td>\n",
       "      <td>Jacob Alhadeff</td>\n",
       "      <td>63508890.0</td>\n",
       "      <td>Jacob_Alhadeff</td>\n",
       "      <td>1</td>\n",
       "      <td>Seattle, WA</td>\n",
       "      <td>Seattle, WA</td>\n",
       "      <td>User location</td>\n",
       "      <td>Washington</td>\n",
       "    </tr>\n",
       "    <tr>\n",
       "      <th>3</th>\n",
       "      <td>2015</td>\n",
       "      <td>16645396.0</td>\n",
       "      <td>@business Marc is stupid, buy S&amp;P500 less foss...</td>\n",
       "      <td>Will in Seattle</td>\n",
       "      <td>16645396.0</td>\n",
       "      <td>WillSeattle</td>\n",
       "      <td>1</td>\n",
       "      <td>Seattle</td>\n",
       "      <td>Seattle</td>\n",
       "      <td>User location</td>\n",
       "      <td>Washington</td>\n",
       "    </tr>\n",
       "    <tr>\n",
       "      <th>4</th>\n",
       "      <td>2015</td>\n",
       "      <td>71849044.0</td>\n",
       "      <td>RT @ClimateReality: Fossil fuels are a bust. C...</td>\n",
       "      <td>Sean Bond</td>\n",
       "      <td>71849044.0</td>\n",
       "      <td>iam_seanbond</td>\n",
       "      <td>1</td>\n",
       "      <td>This Place Called Earth</td>\n",
       "      <td>This Place Called Earth</td>\n",
       "      <td>User location</td>\n",
       "      <td>NaN</td>\n",
       "    </tr>\n",
       "  </tbody>\n",
       "</table>\n",
       "</div>"
      ],
      "text/plain": [
       "   Year     user_id                                              tweet  \\\n",
       "0  2015  47043733.0  Adios 2015 / Adieu Fossil Fuels...con los mejo...   \n",
       "1  2015  14304664.0  Temperature went above zero at the North Pole ...   \n",
       "2  2015  63508890.0  Beef = a hummer at 12 mpg, pork = a hybrid at ...   \n",
       "3  2015  16645396.0  @business Marc is stupid, buy S&P500 less foss...   \n",
       "4  2015  71849044.0  RT @ClimateReality: Fossil fuels are a bust. C...   \n",
       "\n",
       "                 features__name  features__id features__screen_name  \\\n",
       "0                Fernando Comas    47043733.0                fecove   \n",
       "1  Cameron MacLeod 🇨🇦🏳️‍🌈🚊👨‍👨‍👦    14304664.0                   c_9   \n",
       "2                Jacob Alhadeff    63508890.0        Jacob_Alhadeff   \n",
       "3               Will in Seattle    16645396.0           WillSeattle   \n",
       "4                     Sean Bond    71849044.0          iam_seanbond   \n",
       "\n",
       "   features__tweets          features__location       features__primary_geo  \\\n",
       "0                 1             Asturias España             Asturias España   \n",
       "1                 1  Toronto, most of the time.  Toronto, most of the time.   \n",
       "2                 1                 Seattle, WA                 Seattle, WA   \n",
       "3                 1                     Seattle                     Seattle   \n",
       "4                 1     This Place Called Earth     This Place Called Earth   \n",
       "\n",
       "  features__geo_type        state  \n",
       "0      User location          NaN  \n",
       "1      User location          NaN  \n",
       "2      User location   Washington  \n",
       "3      User location   Washington  \n",
       "4      User location          NaN  "
      ]
     },
     "execution_count": 4,
     "metadata": {},
     "output_type": "execute_result"
    }
   ],
   "source": [
    "data_tweets.head()"
   ]
  },
  {
   "cell_type": "code",
   "execution_count": 5,
   "metadata": {},
   "outputs": [],
   "source": [
    "grouped_data = data_tweets.groupby(['state','Year']).agg({'features__tweets':sum}).reset_index()"
   ]
  },
  {
   "cell_type": "code",
   "execution_count": 6,
   "metadata": {},
   "outputs": [],
   "source": [
    "grouped_data.to_csv('fossil_tweets_new.csv',index=False)"
   ]
  },
  {
   "cell_type": "code",
   "execution_count": 5,
   "metadata": {},
   "outputs": [],
   "source": [
    "data_global_tweets = pd.read_csv('global_tweets.csv')"
   ]
  },
  {
   "cell_type": "code",
   "execution_count": 6,
   "metadata": {},
   "outputs": [
    {
     "data": {
      "text/html": [
       "<div>\n",
       "<style scoped>\n",
       "    .dataframe tbody tr th:only-of-type {\n",
       "        vertical-align: middle;\n",
       "    }\n",
       "\n",
       "    .dataframe tbody tr th {\n",
       "        vertical-align: top;\n",
       "    }\n",
       "\n",
       "    .dataframe thead th {\n",
       "        text-align: right;\n",
       "    }\n",
       "</style>\n",
       "<table border=\"1\" class=\"dataframe\">\n",
       "  <thead>\n",
       "    <tr style=\"text-align: right;\">\n",
       "      <th></th>\n",
       "      <th>Year</th>\n",
       "      <th>user_id</th>\n",
       "      <th>tweet</th>\n",
       "      <th>features__name</th>\n",
       "      <th>features__id</th>\n",
       "      <th>features__screen_name</th>\n",
       "      <th>features__tweets</th>\n",
       "      <th>features__location</th>\n",
       "      <th>features__primary_geo</th>\n",
       "      <th>features__geo_type</th>\n",
       "      <th>state</th>\n",
       "    </tr>\n",
       "  </thead>\n",
       "  <tbody>\n",
       "    <tr>\n",
       "      <th>0</th>\n",
       "      <td>2015</td>\n",
       "      <td>3.265560e+09</td>\n",
       "      <td>#GlobalWarming #Tcot NYT: Global Warming Could...</td>\n",
       "      <td>Women's News</td>\n",
       "      <td>3.265560e+09</td>\n",
       "      <td>WomenWorldNews1</td>\n",
       "      <td>1</td>\n",
       "      <td>New Jersey, USA</td>\n",
       "      <td>New Jersey, USA</td>\n",
       "      <td>User location</td>\n",
       "      <td>New Jersey</td>\n",
       "    </tr>\n",
       "    <tr>\n",
       "      <th>1</th>\n",
       "      <td>2015</td>\n",
       "      <td>2.630779e+08</td>\n",
       "      <td>RT @shariv67: Excuse me, sir. Do you have a mi...</td>\n",
       "      <td>Cally Clarke</td>\n",
       "      <td>2.630779e+08</td>\n",
       "      <td>Giant_hamster</td>\n",
       "      <td>1</td>\n",
       "      <td>neeewcasssle</td>\n",
       "      <td>neeewcasssle</td>\n",
       "      <td>User location</td>\n",
       "      <td>NaN</td>\n",
       "    </tr>\n",
       "    <tr>\n",
       "      <th>2</th>\n",
       "      <td>2015</td>\n",
       "      <td>1.788303e+08</td>\n",
       "      <td>RT @TrunewsRadio: Climate Models Have Been Wro...</td>\n",
       "      <td>James Bountrogiannis</td>\n",
       "      <td>1.788303e+08</td>\n",
       "      <td>SpeakeasyJames</td>\n",
       "      <td>1</td>\n",
       "      <td>GTA, Ontario, Canada</td>\n",
       "      <td>GTA, Ontario, Canada</td>\n",
       "      <td>User location</td>\n",
       "      <td>NaN</td>\n",
       "    </tr>\n",
       "    <tr>\n",
       "      <th>3</th>\n",
       "      <td>2015</td>\n",
       "      <td>1.800675e+07</td>\n",
       "      <td>RT @shariv67: Excuse me, sir. Do you have a mi...</td>\n",
       "      <td>Kat Capps🇺🇸 🌊</td>\n",
       "      <td>1.800675e+07</td>\n",
       "      <td>KatCapps</td>\n",
       "      <td>1</td>\n",
       "      <td>Portland Oregon</td>\n",
       "      <td>Portland Oregon</td>\n",
       "      <td>User location</td>\n",
       "      <td>Oregon</td>\n",
       "    </tr>\n",
       "    <tr>\n",
       "      <th>4</th>\n",
       "      <td>2015</td>\n",
       "      <td>1.497247e+09</td>\n",
       "      <td>I'm wearing shorts and a sleeveless shirt. It'...</td>\n",
       "      <td>jules pules</td>\n",
       "      <td>1.497247e+09</td>\n",
       "      <td>GiraffeFR</td>\n",
       "      <td>1</td>\n",
       "      <td>Florida, USA</td>\n",
       "      <td>Florida, USA</td>\n",
       "      <td>User location</td>\n",
       "      <td>Florida</td>\n",
       "    </tr>\n",
       "  </tbody>\n",
       "</table>\n",
       "</div>"
      ],
      "text/plain": [
       "   Year       user_id                                              tweet  \\\n",
       "0  2015  3.265560e+09  #GlobalWarming #Tcot NYT: Global Warming Could...   \n",
       "1  2015  2.630779e+08  RT @shariv67: Excuse me, sir. Do you have a mi...   \n",
       "2  2015  1.788303e+08  RT @TrunewsRadio: Climate Models Have Been Wro...   \n",
       "3  2015  1.800675e+07  RT @shariv67: Excuse me, sir. Do you have a mi...   \n",
       "4  2015  1.497247e+09  I'm wearing shorts and a sleeveless shirt. It'...   \n",
       "\n",
       "         features__name  features__id features__screen_name  features__tweets  \\\n",
       "0          Women's News  3.265560e+09       WomenWorldNews1                 1   \n",
       "1          Cally Clarke  2.630779e+08         Giant_hamster                 1   \n",
       "2  James Bountrogiannis  1.788303e+08        SpeakeasyJames                 1   \n",
       "3         Kat Capps🇺🇸 🌊  1.800675e+07              KatCapps                 1   \n",
       "4           jules pules  1.497247e+09             GiraffeFR                 1   \n",
       "\n",
       "     features__location features__primary_geo features__geo_type       state  \n",
       "0       New Jersey, USA       New Jersey, USA      User location  New Jersey  \n",
       "1          neeewcasssle          neeewcasssle      User location         NaN  \n",
       "2  GTA, Ontario, Canada  GTA, Ontario, Canada      User location         NaN  \n",
       "3      Portland Oregon       Portland Oregon       User location      Oregon  \n",
       "4          Florida, USA          Florida, USA      User location     Florida  "
      ]
     },
     "execution_count": 6,
     "metadata": {},
     "output_type": "execute_result"
    }
   ],
   "source": [
    "data_global_tweets.head()"
   ]
  },
  {
   "cell_type": "code",
   "execution_count": 9,
   "metadata": {},
   "outputs": [],
   "source": [
    "grouped_global_data = data_global_tweets.groupby(['state','Year']).agg({'features__tweets':sum}).reset_index()"
   ]
  },
  {
   "cell_type": "code",
   "execution_count": 10,
   "metadata": {},
   "outputs": [],
   "source": [
    "grouped_global_data.to_csv('global_tweets_new.csv',index=False)"
   ]
  },
  {
   "cell_type": "markdown",
   "metadata": {},
   "source": [
    "Tweets text file"
   ]
  },
  {
   "cell_type": "code",
   "execution_count": 675,
   "metadata": {},
   "outputs": [],
   "source": [
    "f=open('2015_fossil.txt','r')"
   ]
  },
  {
   "cell_type": "code",
   "execution_count": 676,
   "metadata": {},
   "outputs": [],
   "source": [
    "textfile=f.read()"
   ]
  },
  {
   "cell_type": "code",
   "execution_count": 677,
   "metadata": {},
   "outputs": [],
   "source": [
    "import re\n",
    "textfile=re.sub(r\"http\\S+\",\"\",textfile)"
   ]
  },
  {
   "cell_type": "code",
   "execution_count": 678,
   "metadata": {},
   "outputs": [],
   "source": [
    "textfile=textfile.replace('\\\\n',' ')"
   ]
  },
  {
   "cell_type": "code",
   "execution_count": 679,
   "metadata": {},
   "outputs": [],
   "source": [
    "clean=['Ä¶',',','!','#','$','%','&','@','(',')','*',',',';','?','/','\\\\','+','=','<','>','_','-',':','RT','\\n','\\\\n','\"',\"'\",'{','}','[',']','1','2','3','4','5','6','7','8','9','0','.']"
   ]
  },
  {
   "cell_type": "code",
   "execution_count": 680,
   "metadata": {},
   "outputs": [],
   "source": [
    "for x in clean:\n",
    "    if x in textfile:\n",
    "        textfile=textfile.replace(x,' ')"
   ]
  },
  {
   "cell_type": "code",
   "execution_count": 681,
   "metadata": {},
   "outputs": [],
   "source": [
    "textfile=textfile.lower()"
   ]
  },
  {
   "cell_type": "code",
   "execution_count": 682,
   "metadata": {},
   "outputs": [],
   "source": [
    "textfile = textfile.replace('realdonaldtrump','trump')"
   ]
  },
  {
   "cell_type": "code",
   "execution_count": 683,
   "metadata": {},
   "outputs": [],
   "source": [
    "textfile = textfile.replace('donaldtrump','trump')\n",
    "textfile = textfile.replace('donald','trump')"
   ]
  },
  {
   "cell_type": "code",
   "execution_count": 684,
   "metadata": {},
   "outputs": [],
   "source": [
    "textfile=textfile.split()"
   ]
  },
  {
   "cell_type": "code",
   "execution_count": 685,
   "metadata": {},
   "outputs": [
    {
     "name": "stdout",
     "output_type": "stream",
     "text": [
      "['adios', 'adieu', 'fossil', 'fuels', 'con', 'los', 'mejores', 'deseos', 'temperature', 'went', 'above', 'zero', 'at', 'the', 'north', 'pole', 'today', 'keep', 'burning', 'those', 'fossil', 'fuels', 'voting', 'for', 'tax', 'cuts', 'everyone', 'beef', 'a', 'hummer', 'at', 'mpg', 'pork', 'a', 'hybrid', 'at', 'mpg', 'and', 'chicken', 'a', 'smart', 'car', 'at', 'mpg', 'food', 'fossil', 'fuels', 'business', 'marc', 'is', 'stupid', 'buy', 's', 'p', 'less', 'fossil', 'fuels', 'there', 'is', 'an', 'etf', 'for', 'that', 'climatereality', 'fossil', 'fuels', 'are', 'a', 'bust', 'clean', 'energy', 'is', 'right', 'on', 'the', 'money', 'retweet', 'if', 'you', 'agree', 'with', 'schwarzenegger', 'climatereality', 'fossil', 'fuels', 'are', 'a', 'bust', 'clean', 'energy', 'is', 'right', 'on', 'the', 'money', 'retweet', 'if', 'you', 'agree', 'with']\n"
     ]
    }
   ],
   "source": [
    "print(textfile[:100])"
   ]
  },
  {
   "cell_type": "code",
   "execution_count": 686,
   "metadata": {},
   "outputs": [],
   "source": [
    "d = {'Tweets':textfile}"
   ]
  },
  {
   "cell_type": "code",
   "execution_count": 687,
   "metadata": {},
   "outputs": [],
   "source": [
    "Data_15 = pd.DataFrame(d)"
   ]
  },
  {
   "cell_type": "code",
   "execution_count": 688,
   "metadata": {},
   "outputs": [
    {
     "data": {
      "text/html": [
       "<div>\n",
       "<style scoped>\n",
       "    .dataframe tbody tr th:only-of-type {\n",
       "        vertical-align: middle;\n",
       "    }\n",
       "\n",
       "    .dataframe tbody tr th {\n",
       "        vertical-align: top;\n",
       "    }\n",
       "\n",
       "    .dataframe thead th {\n",
       "        text-align: right;\n",
       "    }\n",
       "</style>\n",
       "<table border=\"1\" class=\"dataframe\">\n",
       "  <thead>\n",
       "    <tr style=\"text-align: right;\">\n",
       "      <th></th>\n",
       "      <th>Tweets</th>\n",
       "    </tr>\n",
       "  </thead>\n",
       "  <tbody>\n",
       "    <tr>\n",
       "      <th>0</th>\n",
       "      <td>adios</td>\n",
       "    </tr>\n",
       "    <tr>\n",
       "      <th>1</th>\n",
       "      <td>adieu</td>\n",
       "    </tr>\n",
       "  </tbody>\n",
       "</table>\n",
       "</div>"
      ],
      "text/plain": [
       "  Tweets\n",
       "0  adios\n",
       "1  adieu"
      ]
     },
     "execution_count": 688,
     "metadata": {},
     "output_type": "execute_result"
    }
   ],
   "source": [
    "Data_15.head(2)"
   ]
  },
  {
   "cell_type": "code",
   "execution_count": 689,
   "metadata": {},
   "outputs": [],
   "source": [
    "Data_15 = Data_15[Data_15['Tweets'] != 'fossil']"
   ]
  },
  {
   "cell_type": "code",
   "execution_count": 690,
   "metadata": {},
   "outputs": [],
   "source": [
    "Data_15 = Data_15[Data_15['Tweets'] != 'fossilfuel']"
   ]
  },
  {
   "cell_type": "code",
   "execution_count": 691,
   "metadata": {},
   "outputs": [],
   "source": [
    "Data_15 = Data_15[Data_15['Tweets'] != 'fossilfuels']"
   ]
  },
  {
   "cell_type": "code",
   "execution_count": 692,
   "metadata": {},
   "outputs": [],
   "source": [
    "Data_15 = Data_15[Data_15['Tweets'] != 'fuels']"
   ]
  },
  {
   "cell_type": "code",
   "execution_count": 693,
   "metadata": {},
   "outputs": [],
   "source": [
    "Data_15 = Data_15[Data_15['Tweets'] != 'climate']"
   ]
  },
  {
   "cell_type": "code",
   "execution_count": 694,
   "metadata": {},
   "outputs": [],
   "source": [
    "Data_15 = Data_15[Data_15['Tweets'] != 'climatechange']"
   ]
  },
  {
   "cell_type": "code",
   "execution_count": 695,
   "metadata": {},
   "outputs": [],
   "source": [
    "Data_15 = Data_15[Data_15['Tweets'] != 'climate']\n",
    "\n",
    "Data_15 = Data_15[Data_15['Tweets'] != 'climatechange']"
   ]
  },
  {
   "cell_type": "code",
   "execution_count": 696,
   "metadata": {},
   "outputs": [],
   "source": [
    "remove_these_words = pd.read_csv('remove_these_words.csv')"
   ]
  },
  {
   "cell_type": "code",
   "execution_count": 697,
   "metadata": {},
   "outputs": [],
   "source": [
    "Data_15 = Data_15[Data_15['Tweets'].isin(remove_these_words['Words'])== False]"
   ]
  },
  {
   "cell_type": "code",
   "execution_count": 698,
   "metadata": {},
   "outputs": [],
   "source": [
    "Data_15.to_csv('2015_fossil.csv',index=False)"
   ]
  },
  {
   "cell_type": "markdown",
   "metadata": {},
   "source": [
    "2016"
   ]
  },
  {
   "cell_type": "code",
   "execution_count": 699,
   "metadata": {},
   "outputs": [],
   "source": [
    "f=open('2016_fossil.txt','r')"
   ]
  },
  {
   "cell_type": "code",
   "execution_count": 700,
   "metadata": {},
   "outputs": [],
   "source": [
    "textfile=f.read()"
   ]
  },
  {
   "cell_type": "code",
   "execution_count": 701,
   "metadata": {},
   "outputs": [],
   "source": [
    "import re\n",
    "textfile=re.sub(r\"http\\S+\",\"\",textfile)"
   ]
  },
  {
   "cell_type": "code",
   "execution_count": 702,
   "metadata": {},
   "outputs": [],
   "source": [
    "textfile=textfile.replace('\\\\n',' ')"
   ]
  },
  {
   "cell_type": "code",
   "execution_count": 703,
   "metadata": {},
   "outputs": [],
   "source": [
    "clean=['Ä¶',',','!','#','$','%','&','@','(',')','*',',',';','?','/','\\\\','+','=','<','>','_','-',':','RT','\\n','\\\\n','\"',\"'\",'{','}','[',']','1','2','3','4','5','6','7','8','9','0','.']"
   ]
  },
  {
   "cell_type": "code",
   "execution_count": 704,
   "metadata": {},
   "outputs": [],
   "source": [
    "for x in clean:\n",
    "    if x in textfile:\n",
    "        textfile=textfile.replace(x,' ')"
   ]
  },
  {
   "cell_type": "code",
   "execution_count": 705,
   "metadata": {},
   "outputs": [],
   "source": [
    "textfile=textfile.lower()"
   ]
  },
  {
   "cell_type": "code",
   "execution_count": 706,
   "metadata": {},
   "outputs": [],
   "source": [
    "textfile = textfile.replace('realdonaldtrump','trump')"
   ]
  },
  {
   "cell_type": "code",
   "execution_count": 707,
   "metadata": {},
   "outputs": [],
   "source": [
    "textfile = textfile.replace('donaldtrump','trump')\n",
    "textfile = textfile.replace('donald','trump')"
   ]
  },
  {
   "cell_type": "code",
   "execution_count": 708,
   "metadata": {},
   "outputs": [],
   "source": [
    "textfile=textfile.split()"
   ]
  },
  {
   "cell_type": "code",
   "execution_count": 709,
   "metadata": {},
   "outputs": [
    {
     "name": "stdout",
     "output_type": "stream",
     "text": [
      "['friendsoscience', 'scottadamssays', 'jg', 'environ', 'hausfath', 'as', 'do', 'fossil', 'fuels', 'the', 'whole', 'energy', 'market', 'is', 'a', 'mess', 'of', 'subsidies', 'world', 'wide', 'shadowy', 'lobbyists', 'make', 'people', 'not', 'wanna', 'pay', 'more', 'for', 'gas', 'elon', 's', 'views', 'on', 'fossil', 'fuels', 'have', 'always', 'been', 'revolting', 'independent', 'paris', 'suffering', 'worst', 'air', 'pollution', 'in', 'a', 'decade', 'fightdenial', 'thank', 'you', 'portland', 'banning', 'new', 'fossil', 'fuel', 'infrastructure', 'through', 'zoning', 'laws', 'can', 'be', 'replicated', 'across', 'the', 'us', 'wind', 'and', 'solar', 'are', 'crushing', 'fossil', 'fuels', 'dosima', 'org', 'fossil', 'fuels', 'are', 'dying', 'yearsofliving', 'it', 's', 'official', 'solar', 'energy', 'cheaper', 'than', 'fossil', 'fuels', 'via', 'ecowatch', 'exxon‚äôs', 'outlook', 'fossil', 'fuels', 'aren‚äôt', 'going', 'anywhere', 'tulsigabbard']\n"
     ]
    }
   ],
   "source": [
    "print(textfile[:100])"
   ]
  },
  {
   "cell_type": "code",
   "execution_count": 710,
   "metadata": {},
   "outputs": [],
   "source": [
    "d = {'Tweets':textfile}"
   ]
  },
  {
   "cell_type": "code",
   "execution_count": 711,
   "metadata": {},
   "outputs": [],
   "source": [
    "Data_16 = pd.DataFrame(d)"
   ]
  },
  {
   "cell_type": "code",
   "execution_count": 712,
   "metadata": {},
   "outputs": [
    {
     "data": {
      "text/html": [
       "<div>\n",
       "<style scoped>\n",
       "    .dataframe tbody tr th:only-of-type {\n",
       "        vertical-align: middle;\n",
       "    }\n",
       "\n",
       "    .dataframe tbody tr th {\n",
       "        vertical-align: top;\n",
       "    }\n",
       "\n",
       "    .dataframe thead th {\n",
       "        text-align: right;\n",
       "    }\n",
       "</style>\n",
       "<table border=\"1\" class=\"dataframe\">\n",
       "  <thead>\n",
       "    <tr style=\"text-align: right;\">\n",
       "      <th></th>\n",
       "      <th>Tweets</th>\n",
       "    </tr>\n",
       "  </thead>\n",
       "  <tbody>\n",
       "    <tr>\n",
       "      <th>0</th>\n",
       "      <td>friendsoscience</td>\n",
       "    </tr>\n",
       "    <tr>\n",
       "      <th>1</th>\n",
       "      <td>scottadamssays</td>\n",
       "    </tr>\n",
       "  </tbody>\n",
       "</table>\n",
       "</div>"
      ],
      "text/plain": [
       "            Tweets\n",
       "0  friendsoscience\n",
       "1   scottadamssays"
      ]
     },
     "execution_count": 712,
     "metadata": {},
     "output_type": "execute_result"
    }
   ],
   "source": [
    "Data_16.head(2)"
   ]
  },
  {
   "cell_type": "code",
   "execution_count": 713,
   "metadata": {},
   "outputs": [],
   "source": [
    "Data_16 = Data_16[Data_16['Tweets'] != 'fossil']"
   ]
  },
  {
   "cell_type": "code",
   "execution_count": 714,
   "metadata": {},
   "outputs": [],
   "source": [
    "Data_16 = Data_16[Data_16['Tweets'] != 'fossilfuel']"
   ]
  },
  {
   "cell_type": "code",
   "execution_count": 715,
   "metadata": {},
   "outputs": [],
   "source": [
    "Data_16 = Data_16[Data_16['Tweets'] != 'fossilfuels']"
   ]
  },
  {
   "cell_type": "code",
   "execution_count": 716,
   "metadata": {},
   "outputs": [],
   "source": [
    "Data_16 = Data_16[Data_16['Tweets'] != 'fuels']"
   ]
  },
  {
   "cell_type": "code",
   "execution_count": 717,
   "metadata": {},
   "outputs": [],
   "source": [
    "Data_16 = Data_16[Data_16['Tweets'] != 'climate']"
   ]
  },
  {
   "cell_type": "code",
   "execution_count": 718,
   "metadata": {},
   "outputs": [],
   "source": [
    "Data_16 = Data_16[Data_16['Tweets'] != 'climatechange']"
   ]
  },
  {
   "cell_type": "code",
   "execution_count": 719,
   "metadata": {},
   "outputs": [],
   "source": [
    "Data_16 = Data_16[Data_16['Tweets'] != 'climate']\n",
    "\n",
    "Data_16 = Data_16[Data_16['Tweets'] != 'climatechange']"
   ]
  },
  {
   "cell_type": "code",
   "execution_count": 721,
   "metadata": {},
   "outputs": [],
   "source": [
    "remove_these_words = pd.read_csv('remove_these_words.csv')"
   ]
  },
  {
   "cell_type": "code",
   "execution_count": 722,
   "metadata": {},
   "outputs": [],
   "source": [
    "Data_16 = Data_16[Data_16['Tweets'].isin(remove_these_words['Words'])== False]"
   ]
  },
  {
   "cell_type": "code",
   "execution_count": 723,
   "metadata": {},
   "outputs": [],
   "source": [
    "Data_16.to_csv('2016_fossil.csv',index=False)"
   ]
  },
  {
   "cell_type": "markdown",
   "metadata": {},
   "source": [
    "fossil 2017"
   ]
  },
  {
   "cell_type": "code",
   "execution_count": 724,
   "metadata": {},
   "outputs": [],
   "source": [
    "f=open('2017_fossil.txt','r')"
   ]
  },
  {
   "cell_type": "code",
   "execution_count": 725,
   "metadata": {},
   "outputs": [],
   "source": [
    "textfile=f.read()"
   ]
  },
  {
   "cell_type": "code",
   "execution_count": 726,
   "metadata": {},
   "outputs": [],
   "source": [
    "import re\n",
    "textfile=re.sub(r\"http\\S+\",\"\",textfile)"
   ]
  },
  {
   "cell_type": "code",
   "execution_count": 727,
   "metadata": {},
   "outputs": [],
   "source": [
    "textfile=textfile.replace('\\\\n',' ')"
   ]
  },
  {
   "cell_type": "code",
   "execution_count": 728,
   "metadata": {},
   "outputs": [],
   "source": [
    "clean=['Ä¶',',','!','#','$','%','&','@','(',')','*',',',';','?','/','\\\\','+','=','<','>','_','-',':','RT','\\n','\\\\n','\"',\"'\",'{','}','[',']','1','2','3','4','5','6','7','8','9','0','.']"
   ]
  },
  {
   "cell_type": "code",
   "execution_count": 729,
   "metadata": {},
   "outputs": [],
   "source": [
    "for x in clean:\n",
    "    if x in textfile:\n",
    "        textfile=textfile.replace(x,' ')"
   ]
  },
  {
   "cell_type": "code",
   "execution_count": 730,
   "metadata": {},
   "outputs": [],
   "source": [
    "textfile=textfile.lower()"
   ]
  },
  {
   "cell_type": "code",
   "execution_count": 731,
   "metadata": {},
   "outputs": [],
   "source": [
    "textfile = textfile.replace('realdonaldtrump','trump')"
   ]
  },
  {
   "cell_type": "code",
   "execution_count": 732,
   "metadata": {},
   "outputs": [],
   "source": [
    "textfile = textfile.replace('donaldtrump','trump')\n",
    "textfile = textfile.replace('donald','trump')"
   ]
  },
  {
   "cell_type": "code",
   "execution_count": 733,
   "metadata": {},
   "outputs": [],
   "source": [
    "textfile=textfile.split()"
   ]
  },
  {
   "cell_type": "code",
   "execution_count": 734,
   "metadata": {},
   "outputs": [
    {
     "name": "stdout",
     "output_type": "stream",
     "text": [
      "['you', 'too', 'can', 'share', 'your', 'own', 'highlights', 'from', 'and', 'what', 'fuels', 'you', 'to', 'keep', 'on', 'fighting', 'for', 'a', 'fossil', 'fuel', 'free', 'world', 'using', 'cli…', 'jimharris', 'the', 'truth', 'about', 'jobs', 'the', 'smart', 'economy', 'creates', 'way', 'more', 'jobs', 'than', 'dirty', 'fossil', 'fuels', 'technology', 'play', 'a', 'key', 'role', 'in', 'the', 'sma…', 'decarbonizenow', 'yes', 'this', 'would', 'be', 'useful', 'information', 'the', 'relevant', 'phrase', 'i', 'came', 'across', 'recently', 'is', 'that', 'solar', 'and', 'wind', 'have', 'hidden…', 'at', 'this', 'moment', 'of', 'alberta', 's', 'electricity', 'is', 'being', 'produced', 'by', 'fossil', 'fuels', 'while', 'wind', 'is', 'at', 'capacity', 'and', 'producing', 'only', 'justinthaskins', 'scottiev', 'her', 'cubs', 'elizabethforma', 'and', 'we', 'need', 'to', 'do']\n"
     ]
    }
   ],
   "source": [
    "print(textfile[:100])"
   ]
  },
  {
   "cell_type": "code",
   "execution_count": 735,
   "metadata": {},
   "outputs": [],
   "source": [
    "d = {'Tweets':textfile}"
   ]
  },
  {
   "cell_type": "code",
   "execution_count": 736,
   "metadata": {},
   "outputs": [],
   "source": [
    "Data_17 = pd.DataFrame(d)"
   ]
  },
  {
   "cell_type": "code",
   "execution_count": 737,
   "metadata": {},
   "outputs": [
    {
     "data": {
      "text/html": [
       "<div>\n",
       "<style scoped>\n",
       "    .dataframe tbody tr th:only-of-type {\n",
       "        vertical-align: middle;\n",
       "    }\n",
       "\n",
       "    .dataframe tbody tr th {\n",
       "        vertical-align: top;\n",
       "    }\n",
       "\n",
       "    .dataframe thead th {\n",
       "        text-align: right;\n",
       "    }\n",
       "</style>\n",
       "<table border=\"1\" class=\"dataframe\">\n",
       "  <thead>\n",
       "    <tr style=\"text-align: right;\">\n",
       "      <th></th>\n",
       "      <th>Tweets</th>\n",
       "    </tr>\n",
       "  </thead>\n",
       "  <tbody>\n",
       "    <tr>\n",
       "      <th>0</th>\n",
       "      <td>you</td>\n",
       "    </tr>\n",
       "    <tr>\n",
       "      <th>1</th>\n",
       "      <td>too</td>\n",
       "    </tr>\n",
       "  </tbody>\n",
       "</table>\n",
       "</div>"
      ],
      "text/plain": [
       "  Tweets\n",
       "0    you\n",
       "1    too"
      ]
     },
     "execution_count": 737,
     "metadata": {},
     "output_type": "execute_result"
    }
   ],
   "source": [
    "Data_17.head(2)"
   ]
  },
  {
   "cell_type": "code",
   "execution_count": 738,
   "metadata": {},
   "outputs": [],
   "source": [
    "Data_17 = Data_17[Data_17['Tweets'] != 'fossil']"
   ]
  },
  {
   "cell_type": "code",
   "execution_count": 739,
   "metadata": {},
   "outputs": [],
   "source": [
    "Data_17 = Data_17[Data_17['Tweets'] != 'fossilfuel']"
   ]
  },
  {
   "cell_type": "code",
   "execution_count": 740,
   "metadata": {},
   "outputs": [],
   "source": [
    "Data_17 = Data_17[Data_17['Tweets'] != 'fossilfuels']"
   ]
  },
  {
   "cell_type": "code",
   "execution_count": 741,
   "metadata": {},
   "outputs": [],
   "source": [
    "Data_17 = Data_17[Data_17['Tweets'] != 'fuels']"
   ]
  },
  {
   "cell_type": "code",
   "execution_count": 742,
   "metadata": {},
   "outputs": [],
   "source": [
    "Data_17 = Data_17[Data_17['Tweets'] != 'climate']"
   ]
  },
  {
   "cell_type": "code",
   "execution_count": 743,
   "metadata": {},
   "outputs": [],
   "source": [
    "Data_17 = Data_17[Data_17['Tweets'] != 'climatechange']"
   ]
  },
  {
   "cell_type": "code",
   "execution_count": 744,
   "metadata": {},
   "outputs": [],
   "source": [
    "Data_17 = Data_17[Data_17['Tweets'] != 'climate']\n",
    "\n",
    "Data_17 = Data_17[Data_17['Tweets'] != 'climatechange']"
   ]
  },
  {
   "cell_type": "code",
   "execution_count": 746,
   "metadata": {},
   "outputs": [],
   "source": [
    "remove_these_words = pd.read_csv('remove_these_words.csv')"
   ]
  },
  {
   "cell_type": "code",
   "execution_count": 747,
   "metadata": {},
   "outputs": [],
   "source": [
    "Data_17 = Data_17[Data_17['Tweets'].isin(remove_these_words['Words'])== False]"
   ]
  },
  {
   "cell_type": "code",
   "execution_count": 748,
   "metadata": {},
   "outputs": [],
   "source": [
    "Data_17.to_csv('2017_fossil.csv',index=False)"
   ]
  },
  {
   "cell_type": "markdown",
   "metadata": {},
   "source": [
    "2018"
   ]
  },
  {
   "cell_type": "code",
   "execution_count": 749,
   "metadata": {},
   "outputs": [],
   "source": [
    "f=open('2018_fossil.txt','r')"
   ]
  },
  {
   "cell_type": "code",
   "execution_count": 750,
   "metadata": {},
   "outputs": [],
   "source": [
    "textfile=f.read()"
   ]
  },
  {
   "cell_type": "code",
   "execution_count": 751,
   "metadata": {},
   "outputs": [],
   "source": [
    "import re\n",
    "textfile=re.sub(r\"http\\S+\",\"\",textfile)"
   ]
  },
  {
   "cell_type": "code",
   "execution_count": 752,
   "metadata": {},
   "outputs": [],
   "source": [
    "textfile=textfile.replace('\\\\n',' ')"
   ]
  },
  {
   "cell_type": "code",
   "execution_count": 753,
   "metadata": {},
   "outputs": [],
   "source": [
    "clean=['Ä¶',',','!','#','$','%','&','@','(',')','*',',',';','?','/','\\\\','+','=','<','>','_','-',':','RT','\\n','\\\\n','\"',\"'\",'{','}','[',']','1','2','3','4','5','6','7','8','9','0','.']"
   ]
  },
  {
   "cell_type": "code",
   "execution_count": 754,
   "metadata": {},
   "outputs": [],
   "source": [
    "for x in clean:\n",
    "    if x in textfile:\n",
    "        textfile=textfile.replace(x,' ')"
   ]
  },
  {
   "cell_type": "code",
   "execution_count": 755,
   "metadata": {},
   "outputs": [],
   "source": [
    "textfile=textfile.lower()"
   ]
  },
  {
   "cell_type": "code",
   "execution_count": 756,
   "metadata": {},
   "outputs": [],
   "source": [
    "textfile = textfile.replace('realdonaldtrump','trump')"
   ]
  },
  {
   "cell_type": "code",
   "execution_count": 757,
   "metadata": {},
   "outputs": [],
   "source": [
    "textfile = textfile.replace('donaldtrump','trump')\n",
    "textfile = textfile.replace('donald','trump')"
   ]
  },
  {
   "cell_type": "code",
   "execution_count": 758,
   "metadata": {},
   "outputs": [],
   "source": [
    "textfile=textfile.split()"
   ]
  },
  {
   "cell_type": "code",
   "execution_count": 759,
   "metadata": {},
   "outputs": [
    {
     "name": "stdout",
     "output_type": "stream",
     "text": [
      "['bob', 'zim', 'rick', 'ragan', 'johncornyn', 'the', 'big', 'scare', 'during', 'the', 's', 'was', 'that', 'fossil', 'fuels', 'were', 'causing', 'global', 'cooling', '…', 'tomthunkitsmind', 'trump', 'just', 'approved', 'the', 'first', 'step', 'in', 'drilling', 'for', 'fossil', 'fuels', 'off', 'the', 'atlantic', 'shore', 'putting', 'our', 'coasts', 'a…', 'sensanders', 'the', 'fossil', 'fuel', 'industry', 'is', 'now', 'the', 'equivalent', 'of', 'the', 'tobacco', 'industry', 'it', 'creates', 'death', 'and', 'destruction', 'and', 'then', 'spends', 'b…', 'sensanders', 'the', 'fossil', 'fuel', 'industry', 'is', 'now', 'the', 'equivalent', 'of', 'the', 'tobacco', 'industry', 'it', 'creates', 'death', 'and', 'destruction', 'and', 'then', 'spends', 'b…', 'sensanders', 'the', 'fossil', 'fuel', 'industry', 'is', 'now', 'the', 'equivalent', 'of', 'the', 'tobacco', 'industry', 'it', 'creates', 'death']\n"
     ]
    }
   ],
   "source": [
    "print(textfile[:100])"
   ]
  },
  {
   "cell_type": "code",
   "execution_count": 760,
   "metadata": {},
   "outputs": [],
   "source": [
    "d = {'Tweets':textfile}"
   ]
  },
  {
   "cell_type": "code",
   "execution_count": 761,
   "metadata": {},
   "outputs": [],
   "source": [
    "Data_18 = pd.DataFrame(d)"
   ]
  },
  {
   "cell_type": "code",
   "execution_count": 762,
   "metadata": {},
   "outputs": [
    {
     "data": {
      "text/html": [
       "<div>\n",
       "<style scoped>\n",
       "    .dataframe tbody tr th:only-of-type {\n",
       "        vertical-align: middle;\n",
       "    }\n",
       "\n",
       "    .dataframe tbody tr th {\n",
       "        vertical-align: top;\n",
       "    }\n",
       "\n",
       "    .dataframe thead th {\n",
       "        text-align: right;\n",
       "    }\n",
       "</style>\n",
       "<table border=\"1\" class=\"dataframe\">\n",
       "  <thead>\n",
       "    <tr style=\"text-align: right;\">\n",
       "      <th></th>\n",
       "      <th>Tweets</th>\n",
       "    </tr>\n",
       "  </thead>\n",
       "  <tbody>\n",
       "    <tr>\n",
       "      <th>0</th>\n",
       "      <td>bob</td>\n",
       "    </tr>\n",
       "    <tr>\n",
       "      <th>1</th>\n",
       "      <td>zim</td>\n",
       "    </tr>\n",
       "  </tbody>\n",
       "</table>\n",
       "</div>"
      ],
      "text/plain": [
       "  Tweets\n",
       "0    bob\n",
       "1    zim"
      ]
     },
     "execution_count": 762,
     "metadata": {},
     "output_type": "execute_result"
    }
   ],
   "source": [
    "Data_18.head(2)"
   ]
  },
  {
   "cell_type": "code",
   "execution_count": 763,
   "metadata": {},
   "outputs": [],
   "source": [
    "Data_18 = Data_18[Data_18['Tweets'] != 'fossil']"
   ]
  },
  {
   "cell_type": "code",
   "execution_count": 764,
   "metadata": {},
   "outputs": [],
   "source": [
    "Data_18 = Data_18[Data_18['Tweets'] != 'fossilfuel']"
   ]
  },
  {
   "cell_type": "code",
   "execution_count": 765,
   "metadata": {},
   "outputs": [],
   "source": [
    "Data_18 = Data_18[Data_18['Tweets'] != 'fossilfuels']"
   ]
  },
  {
   "cell_type": "code",
   "execution_count": 766,
   "metadata": {},
   "outputs": [],
   "source": [
    "Data_18 = Data_18[Data_18['Tweets'] != 'fuels']"
   ]
  },
  {
   "cell_type": "code",
   "execution_count": 767,
   "metadata": {},
   "outputs": [],
   "source": [
    "Data_18 = Data_18[Data_18['Tweets'] != 'climate']"
   ]
  },
  {
   "cell_type": "code",
   "execution_count": 768,
   "metadata": {},
   "outputs": [],
   "source": [
    "Data_18 = Data_18[Data_18['Tweets'] != 'climatechange']"
   ]
  },
  {
   "cell_type": "code",
   "execution_count": 769,
   "metadata": {},
   "outputs": [],
   "source": [
    "Data_18 = Data_18[Data_18['Tweets'] != 'climate']\n",
    "\n",
    "Data_18 = Data_18[Data_18['Tweets'] != 'climatechange']"
   ]
  },
  {
   "cell_type": "code",
   "execution_count": 771,
   "metadata": {},
   "outputs": [],
   "source": [
    "remove_these_words = pd.read_csv('remove_these_words.csv')"
   ]
  },
  {
   "cell_type": "code",
   "execution_count": 772,
   "metadata": {},
   "outputs": [],
   "source": [
    "Data_18 = Data_18[Data_18['Tweets'].isin(remove_these_words['Words'])== False]"
   ]
  },
  {
   "cell_type": "code",
   "execution_count": 773,
   "metadata": {},
   "outputs": [],
   "source": [
    "Data_18.to_csv('2018_fossil.csv',index=False)"
   ]
  },
  {
   "cell_type": "markdown",
   "metadata": {},
   "source": [
    "Global tweets"
   ]
  },
  {
   "cell_type": "code",
   "execution_count": 774,
   "metadata": {},
   "outputs": [],
   "source": [
    "f=open('2015_global.txt','r')"
   ]
  },
  {
   "cell_type": "code",
   "execution_count": 775,
   "metadata": {},
   "outputs": [],
   "source": [
    "textfile=f.read()"
   ]
  },
  {
   "cell_type": "code",
   "execution_count": 776,
   "metadata": {},
   "outputs": [],
   "source": [
    "import re\n",
    "textfile=re.sub(r\"http\\S+\",\"\",textfile)"
   ]
  },
  {
   "cell_type": "code",
   "execution_count": 777,
   "metadata": {},
   "outputs": [],
   "source": [
    "textfile=textfile.replace('\\\\n',' ')"
   ]
  },
  {
   "cell_type": "code",
   "execution_count": 778,
   "metadata": {},
   "outputs": [],
   "source": [
    "clean=['Ä¶',',','!','#','$','%','&','@','(',')','*',',',';','?','/','\\\\','+','=','<','>','_','-',':','RT','\\n','\\\\n','\"',\"'\",'{','}','[',']','1','2','3','4','5','6','7','8','9','0','.']"
   ]
  },
  {
   "cell_type": "code",
   "execution_count": 779,
   "metadata": {},
   "outputs": [],
   "source": [
    "for x in clean:\n",
    "    if x in textfile:\n",
    "        textfile=textfile.replace(x,' ')"
   ]
  },
  {
   "cell_type": "code",
   "execution_count": 780,
   "metadata": {},
   "outputs": [],
   "source": [
    "textfile=textfile.lower()"
   ]
  },
  {
   "cell_type": "code",
   "execution_count": 781,
   "metadata": {},
   "outputs": [],
   "source": [
    "textfile = textfile.replace('realdonaldtrump','trump')"
   ]
  },
  {
   "cell_type": "code",
   "execution_count": 782,
   "metadata": {},
   "outputs": [],
   "source": [
    "textfile = textfile.replace('donaldtrump','trump')\n",
    "textfile = textfile.replace('donald','trump')"
   ]
  },
  {
   "cell_type": "code",
   "execution_count": 783,
   "metadata": {},
   "outputs": [],
   "source": [
    "textfile=textfile.split()"
   ]
  },
  {
   "cell_type": "code",
   "execution_count": 784,
   "metadata": {},
   "outputs": [
    {
     "name": "stdout",
     "output_type": "stream",
     "text": [
      "['globalwarming', 'tcot', 'nyt', 'global', 'warming', 'could', 'be', 'causing', 'malformed', 'babies', 'in', 'brazil', 'peopl', 'uniteblue', 'cc', 'shariv', 'excuse', 'me', 'sir', 'do', 'you', 'have', 'a', 'minute', 'to', 'talk', 'about', 'global', 'warming', 'trunewsradio', 'climate', 'models', 'have', 'been', 'wrong', 'about', 'global', 'warming', 'for', 'six', 'decades', 'shariv', 'excuse', 'me', 'sir', 'do', 'you', 'have', 'a', 'minute', 'to', 'talk', 'about', 'global', 'warming', 'i', 'm', 'wearing', 'shorts', 'and', 'a', 'sleeveless', 'shirt', 'it', 's', 'winter', '¬øhow', 'is', 'global', 'warming', 'not', 'real', 'trump', 'shariv', 'excuse', 'me', 'sir', 'do', 'you', 'have', 'a', 'minute', 'to', 'talk', 'about', 'global', 'warming', 'shariv', 'excuse', 'me', 'sir', 'do', 'you', 'have', 'a', 'minute', 'to', 'talk', 'about', 'global']\n"
     ]
    }
   ],
   "source": [
    "print(textfile[:100])"
   ]
  },
  {
   "cell_type": "code",
   "execution_count": 785,
   "metadata": {},
   "outputs": [],
   "source": [
    "d = {'Tweets':textfile}"
   ]
  },
  {
   "cell_type": "code",
   "execution_count": 786,
   "metadata": {},
   "outputs": [],
   "source": [
    "Data = pd.DataFrame(d)"
   ]
  },
  {
   "cell_type": "code",
   "execution_count": 787,
   "metadata": {},
   "outputs": [
    {
     "data": {
      "text/html": [
       "<div>\n",
       "<style scoped>\n",
       "    .dataframe tbody tr th:only-of-type {\n",
       "        vertical-align: middle;\n",
       "    }\n",
       "\n",
       "    .dataframe tbody tr th {\n",
       "        vertical-align: top;\n",
       "    }\n",
       "\n",
       "    .dataframe thead th {\n",
       "        text-align: right;\n",
       "    }\n",
       "</style>\n",
       "<table border=\"1\" class=\"dataframe\">\n",
       "  <thead>\n",
       "    <tr style=\"text-align: right;\">\n",
       "      <th></th>\n",
       "      <th>Tweets</th>\n",
       "    </tr>\n",
       "  </thead>\n",
       "  <tbody>\n",
       "    <tr>\n",
       "      <th>0</th>\n",
       "      <td>globalwarming</td>\n",
       "    </tr>\n",
       "    <tr>\n",
       "      <th>1</th>\n",
       "      <td>tcot</td>\n",
       "    </tr>\n",
       "  </tbody>\n",
       "</table>\n",
       "</div>"
      ],
      "text/plain": [
       "          Tweets\n",
       "0  globalwarming\n",
       "1           tcot"
      ]
     },
     "execution_count": 787,
     "metadata": {},
     "output_type": "execute_result"
    }
   ],
   "source": [
    "Data.head(2)"
   ]
  },
  {
   "cell_type": "code",
   "execution_count": 788,
   "metadata": {},
   "outputs": [],
   "source": [
    "Data = Data[Data['Tweets'] != 'fossil']"
   ]
  },
  {
   "cell_type": "code",
   "execution_count": 789,
   "metadata": {},
   "outputs": [],
   "source": [
    "Data = Data[Data['Tweets'] != 'fossilfuel']"
   ]
  },
  {
   "cell_type": "code",
   "execution_count": 790,
   "metadata": {},
   "outputs": [],
   "source": [
    "Data = Data[Data['Tweets'] != 'fossilfuels']"
   ]
  },
  {
   "cell_type": "code",
   "execution_count": 791,
   "metadata": {},
   "outputs": [],
   "source": [
    "Data = Data[Data['Tweets'] != 'fuels']"
   ]
  },
  {
   "cell_type": "code",
   "execution_count": 792,
   "metadata": {},
   "outputs": [],
   "source": [
    "Data = Data[Data['Tweets'] != 'global']"
   ]
  },
  {
   "cell_type": "code",
   "execution_count": 793,
   "metadata": {},
   "outputs": [],
   "source": [
    "Data = Data[Data['Tweets'] != 'globalwarming']"
   ]
  },
  {
   "cell_type": "code",
   "execution_count": 794,
   "metadata": {},
   "outputs": [],
   "source": [
    "Data = Data[Data['Tweets'] != 'warming']"
   ]
  },
  {
   "cell_type": "code",
   "execution_count": 795,
   "metadata": {},
   "outputs": [],
   "source": [
    "Data = Data[Data['Tweets'] != 'climate']"
   ]
  },
  {
   "cell_type": "code",
   "execution_count": 796,
   "metadata": {},
   "outputs": [],
   "source": [
    "Data = Data[Data['Tweets'] != 'climatechange']"
   ]
  },
  {
   "cell_type": "code",
   "execution_count": 798,
   "metadata": {},
   "outputs": [],
   "source": [
    "remove_these_words = pd.read_csv('remove_these_words.csv')"
   ]
  },
  {
   "cell_type": "code",
   "execution_count": 799,
   "metadata": {},
   "outputs": [],
   "source": [
    "Data = Data[Data['Tweets'].isin(remove_these_words['Words'])== False]"
   ]
  },
  {
   "cell_type": "code",
   "execution_count": 800,
   "metadata": {},
   "outputs": [],
   "source": [
    "Data.to_csv('2015_global.csv',index=False)"
   ]
  },
  {
   "cell_type": "markdown",
   "metadata": {},
   "source": [
    "2016"
   ]
  },
  {
   "cell_type": "code",
   "execution_count": 801,
   "metadata": {},
   "outputs": [],
   "source": [
    "f=open('2016_global.txt','r')"
   ]
  },
  {
   "cell_type": "code",
   "execution_count": 802,
   "metadata": {},
   "outputs": [],
   "source": [
    "textfile=f.read()"
   ]
  },
  {
   "cell_type": "code",
   "execution_count": 803,
   "metadata": {},
   "outputs": [],
   "source": [
    "import re\n",
    "textfile=re.sub(r\"http\\S+\",\"\",textfile)"
   ]
  },
  {
   "cell_type": "code",
   "execution_count": 804,
   "metadata": {},
   "outputs": [],
   "source": [
    "textfile=textfile.replace('\\\\n',' ')"
   ]
  },
  {
   "cell_type": "code",
   "execution_count": 805,
   "metadata": {},
   "outputs": [],
   "source": [
    "clean=['Ä¶',',','!','#','$','%','&','@','(',')','*',',',';','?','/','\\\\','+','=','<','>','_','-',':','RT','\\n','\\\\n','\"',\"'\",'{','}','[',']','1','2','3','4','5','6','7','8','9','0','.']"
   ]
  },
  {
   "cell_type": "code",
   "execution_count": 806,
   "metadata": {},
   "outputs": [],
   "source": [
    "for x in clean:\n",
    "    if x in textfile:\n",
    "        textfile=textfile.replace(x,' ')"
   ]
  },
  {
   "cell_type": "code",
   "execution_count": 807,
   "metadata": {},
   "outputs": [],
   "source": [
    "textfile=textfile.lower()"
   ]
  },
  {
   "cell_type": "code",
   "execution_count": 808,
   "metadata": {},
   "outputs": [],
   "source": [
    "textfile = textfile.replace('realdonaldtrump','trump')"
   ]
  },
  {
   "cell_type": "code",
   "execution_count": 809,
   "metadata": {},
   "outputs": [],
   "source": [
    "textfile = textfile.replace('donaldtrump','trump')\n",
    "textfile = textfile.replace('donald','trump')"
   ]
  },
  {
   "cell_type": "code",
   "execution_count": 810,
   "metadata": {},
   "outputs": [],
   "source": [
    "textfile=textfile.split()"
   ]
  },
  {
   "cell_type": "code",
   "execution_count": 811,
   "metadata": {},
   "outputs": [
    {
     "name": "stdout",
     "output_type": "stream",
     "text": [
      "['brianklaas', 'citing', 'snow', 'in', 'mid', 'december', 'as', 'evidence', 'against', 'global', 'warming', 'shows', 'a', 'truly', 'amazing', 'level', 'of', 'scientific', 'ignorance', 'pointing', 'to', 'science', 'as', 'reason', 'to', 'denounce', 'trans', 'identities', 'is', 'like', 'claiming', 'mild', 'winters', 'disproves', 'global', 'warming', 'it', 's', 'either', 'blatantly', 'burntkiss', 'animal', 'agriculture', 'is', 'one', 'of', 'the', 'top', 'leading', 'causes', 'of', 'global', 'warming', 'go', 'vegan', 'to', 'save', 'the', 'earth', 'save', 'your', 'health', 'and', 'sav‚', 'fightdenial', 'thank', 'you', 'portland', 'banning', 'new', 'fossil', 'fuel', 'infrastructure', 'through', 'zoning', 'laws', 'can', 'be', 'replicated', 'across', 'the', 'us', 'burntkiss', 'animal', 'agriculture', 'is', 'one', 'of', 'the', 'top', 'leading', 'causes', 'of', 'global', 'warming', 'go', 'vegan', 'to', 'save', 'the']\n"
     ]
    }
   ],
   "source": [
    "print(textfile[:100])"
   ]
  },
  {
   "cell_type": "code",
   "execution_count": 812,
   "metadata": {},
   "outputs": [],
   "source": [
    "d = {'Tweets':textfile}"
   ]
  },
  {
   "cell_type": "code",
   "execution_count": 813,
   "metadata": {},
   "outputs": [],
   "source": [
    "Data = pd.DataFrame(d)"
   ]
  },
  {
   "cell_type": "code",
   "execution_count": 814,
   "metadata": {},
   "outputs": [
    {
     "data": {
      "text/html": [
       "<div>\n",
       "<style scoped>\n",
       "    .dataframe tbody tr th:only-of-type {\n",
       "        vertical-align: middle;\n",
       "    }\n",
       "\n",
       "    .dataframe tbody tr th {\n",
       "        vertical-align: top;\n",
       "    }\n",
       "\n",
       "    .dataframe thead th {\n",
       "        text-align: right;\n",
       "    }\n",
       "</style>\n",
       "<table border=\"1\" class=\"dataframe\">\n",
       "  <thead>\n",
       "    <tr style=\"text-align: right;\">\n",
       "      <th></th>\n",
       "      <th>Tweets</th>\n",
       "    </tr>\n",
       "  </thead>\n",
       "  <tbody>\n",
       "    <tr>\n",
       "      <th>0</th>\n",
       "      <td>brianklaas</td>\n",
       "    </tr>\n",
       "    <tr>\n",
       "      <th>1</th>\n",
       "      <td>citing</td>\n",
       "    </tr>\n",
       "  </tbody>\n",
       "</table>\n",
       "</div>"
      ],
      "text/plain": [
       "       Tweets\n",
       "0  brianklaas\n",
       "1      citing"
      ]
     },
     "execution_count": 814,
     "metadata": {},
     "output_type": "execute_result"
    }
   ],
   "source": [
    "Data.head(2)"
   ]
  },
  {
   "cell_type": "code",
   "execution_count": 815,
   "metadata": {},
   "outputs": [],
   "source": [
    "Data = Data[Data['Tweets'] != 'fossil']"
   ]
  },
  {
   "cell_type": "code",
   "execution_count": 816,
   "metadata": {},
   "outputs": [],
   "source": [
    "Data = Data[Data['Tweets'] != 'fossilfuel']"
   ]
  },
  {
   "cell_type": "code",
   "execution_count": 817,
   "metadata": {},
   "outputs": [],
   "source": [
    "Data = Data[Data['Tweets'] != 'fossilfuels']"
   ]
  },
  {
   "cell_type": "code",
   "execution_count": 818,
   "metadata": {},
   "outputs": [],
   "source": [
    "Data = Data[Data['Tweets'] != 'fuels']"
   ]
  },
  {
   "cell_type": "code",
   "execution_count": 819,
   "metadata": {},
   "outputs": [],
   "source": [
    "Data = Data[Data['Tweets'] != 'global']"
   ]
  },
  {
   "cell_type": "code",
   "execution_count": 820,
   "metadata": {},
   "outputs": [],
   "source": [
    "Data = Data[Data['Tweets'] != 'globalwarming']"
   ]
  },
  {
   "cell_type": "code",
   "execution_count": 821,
   "metadata": {},
   "outputs": [],
   "source": [
    "Data = Data[Data['Tweets'] != 'warming']"
   ]
  },
  {
   "cell_type": "code",
   "execution_count": 822,
   "metadata": {},
   "outputs": [],
   "source": [
    "Data = Data[Data['Tweets'] != 'climate']"
   ]
  },
  {
   "cell_type": "code",
   "execution_count": 823,
   "metadata": {},
   "outputs": [],
   "source": [
    "Data = Data[Data['Tweets'] != 'climatechange']"
   ]
  },
  {
   "cell_type": "code",
   "execution_count": 825,
   "metadata": {},
   "outputs": [],
   "source": [
    "remove_these_words = pd.read_csv('remove_these_words.csv')"
   ]
  },
  {
   "cell_type": "code",
   "execution_count": 826,
   "metadata": {},
   "outputs": [],
   "source": [
    "Data = Data[Data['Tweets'].isin(remove_these_words['Words'])== False]"
   ]
  },
  {
   "cell_type": "code",
   "execution_count": 827,
   "metadata": {},
   "outputs": [],
   "source": [
    "Data.to_csv('2016_global.csv',index=False)"
   ]
  },
  {
   "cell_type": "markdown",
   "metadata": {},
   "source": [
    "2017"
   ]
  },
  {
   "cell_type": "code",
   "execution_count": 828,
   "metadata": {},
   "outputs": [],
   "source": [
    "f=open('2017_global.txt','r')"
   ]
  },
  {
   "cell_type": "code",
   "execution_count": 829,
   "metadata": {},
   "outputs": [],
   "source": [
    "textfile=f.read()"
   ]
  },
  {
   "cell_type": "code",
   "execution_count": 830,
   "metadata": {},
   "outputs": [],
   "source": [
    "import re\n",
    "textfile=re.sub(r\"http\\S+\",\"\",textfile)"
   ]
  },
  {
   "cell_type": "code",
   "execution_count": 831,
   "metadata": {},
   "outputs": [],
   "source": [
    "textfile=textfile.replace('\\\\n',' ')"
   ]
  },
  {
   "cell_type": "code",
   "execution_count": 832,
   "metadata": {},
   "outputs": [],
   "source": [
    "clean=['Ä¶',',','!','#','$','%','&','@','(',')','*',',',';','?','/','\\\\','+','=','<','>','_','-',':','RT','\\n','\\\\n','\"',\"'\",'{','}','[',']','1','2','3','4','5','6','7','8','9','0','.']"
   ]
  },
  {
   "cell_type": "code",
   "execution_count": 833,
   "metadata": {},
   "outputs": [],
   "source": [
    "for x in clean:\n",
    "    if x in textfile:\n",
    "        textfile=textfile.replace(x,' ')"
   ]
  },
  {
   "cell_type": "code",
   "execution_count": 834,
   "metadata": {},
   "outputs": [],
   "source": [
    "textfile=textfile.lower()"
   ]
  },
  {
   "cell_type": "code",
   "execution_count": 835,
   "metadata": {},
   "outputs": [],
   "source": [
    "textfile = textfile.replace('realdonaldtrump','trump')"
   ]
  },
  {
   "cell_type": "code",
   "execution_count": 836,
   "metadata": {},
   "outputs": [],
   "source": [
    "textfile = textfile.replace('donaldtrump','trump')\n",
    "textfile = textfile.replace('donald','trump')"
   ]
  },
  {
   "cell_type": "code",
   "execution_count": 837,
   "metadata": {},
   "outputs": [],
   "source": [
    "textfile=textfile.split()"
   ]
  },
  {
   "cell_type": "code",
   "execution_count": 838,
   "metadata": {},
   "outputs": [
    {
     "name": "stdout",
     "output_type": "stream",
     "text": [
      "['nohoesgeorge', 'proof', 'that', 'global', 'warming', 'is', 'real', 'if', 'global', 'warming', 'isn', 't', 'real', 'then', 'why', 'did', 'club', 'penguin', 'get', 'shut', 'down', '\\uf8ffü§î', 'vinnyguadagnino', 'trump', 'i', 'think', 'climate', 'change', 'is', 'more', 'complex', 'than', 'global', 'warming', 'will', 'make', 'it', 'hotter', 'it', 'has', 'to', 'do', 'with', 'dis‚', 'chelseahandler', 'hey', 'dumbass', 'global', 'warming', 'doesn‚äôt', 'only', 'mean', 'extreme', 'heat', 'it', 'means', 'extreme', 'weather', 'hot', 'and', 'cold', 'maybe', 'buy', 'a', 'thermom‚', 'vinnyguadagnino', 'trump', 'i', 'think', 'climate', 'change', 'is', 'more', 'complex', 'than', 'global', 'warming', 'will', 'make', 'it', 'hotter', 'it', 'has', 'to', 'do', 'with', 'dis‚', 'trump', 'in', 'the', 'east', 'it', 'could', 'be', 'the', 'coldest', 'new', 'year‚äôs', 'eve', 'on']\n"
     ]
    }
   ],
   "source": [
    "print(textfile[:100])"
   ]
  },
  {
   "cell_type": "code",
   "execution_count": 839,
   "metadata": {},
   "outputs": [],
   "source": [
    "d = {'Tweets':textfile}"
   ]
  },
  {
   "cell_type": "code",
   "execution_count": 840,
   "metadata": {},
   "outputs": [],
   "source": [
    "Data = pd.DataFrame(d)"
   ]
  },
  {
   "cell_type": "code",
   "execution_count": 841,
   "metadata": {},
   "outputs": [
    {
     "data": {
      "text/html": [
       "<div>\n",
       "<style scoped>\n",
       "    .dataframe tbody tr th:only-of-type {\n",
       "        vertical-align: middle;\n",
       "    }\n",
       "\n",
       "    .dataframe tbody tr th {\n",
       "        vertical-align: top;\n",
       "    }\n",
       "\n",
       "    .dataframe thead th {\n",
       "        text-align: right;\n",
       "    }\n",
       "</style>\n",
       "<table border=\"1\" class=\"dataframe\">\n",
       "  <thead>\n",
       "    <tr style=\"text-align: right;\">\n",
       "      <th></th>\n",
       "      <th>Tweets</th>\n",
       "    </tr>\n",
       "  </thead>\n",
       "  <tbody>\n",
       "    <tr>\n",
       "      <th>0</th>\n",
       "      <td>nohoesgeorge</td>\n",
       "    </tr>\n",
       "    <tr>\n",
       "      <th>1</th>\n",
       "      <td>proof</td>\n",
       "    </tr>\n",
       "  </tbody>\n",
       "</table>\n",
       "</div>"
      ],
      "text/plain": [
       "         Tweets\n",
       "0  nohoesgeorge\n",
       "1         proof"
      ]
     },
     "execution_count": 841,
     "metadata": {},
     "output_type": "execute_result"
    }
   ],
   "source": [
    "Data.head(2)"
   ]
  },
  {
   "cell_type": "code",
   "execution_count": 842,
   "metadata": {},
   "outputs": [],
   "source": [
    "Data = Data[Data['Tweets'] != 'fossil']"
   ]
  },
  {
   "cell_type": "code",
   "execution_count": 843,
   "metadata": {},
   "outputs": [],
   "source": [
    "Data = Data[Data['Tweets'] != 'fossilfuel']"
   ]
  },
  {
   "cell_type": "code",
   "execution_count": 844,
   "metadata": {},
   "outputs": [],
   "source": [
    "Data = Data[Data['Tweets'] != 'fossilfuels']"
   ]
  },
  {
   "cell_type": "code",
   "execution_count": 845,
   "metadata": {},
   "outputs": [],
   "source": [
    "Data = Data[Data['Tweets'] != 'fuels']"
   ]
  },
  {
   "cell_type": "code",
   "execution_count": 846,
   "metadata": {},
   "outputs": [],
   "source": [
    "Data = Data[Data['Tweets'] != 'global']"
   ]
  },
  {
   "cell_type": "code",
   "execution_count": 847,
   "metadata": {},
   "outputs": [],
   "source": [
    "Data = Data[Data['Tweets'] != 'globalwarming']"
   ]
  },
  {
   "cell_type": "code",
   "execution_count": 848,
   "metadata": {},
   "outputs": [],
   "source": [
    "Data = Data[Data['Tweets'] != 'warming']"
   ]
  },
  {
   "cell_type": "code",
   "execution_count": 849,
   "metadata": {},
   "outputs": [],
   "source": [
    "Data = Data[Data['Tweets'] != 'climate']"
   ]
  },
  {
   "cell_type": "code",
   "execution_count": 850,
   "metadata": {},
   "outputs": [],
   "source": [
    "Data = Data[Data['Tweets'] != 'climatechange']"
   ]
  },
  {
   "cell_type": "code",
   "execution_count": 851,
   "metadata": {},
   "outputs": [],
   "source": [
    "remove_these_words = pd.read_csv('remove_these_words.csv')"
   ]
  },
  {
   "cell_type": "code",
   "execution_count": 852,
   "metadata": {},
   "outputs": [],
   "source": [
    "Data = Data[Data['Tweets'].isin(remove_these_words['Words'])== False]"
   ]
  },
  {
   "cell_type": "code",
   "execution_count": 853,
   "metadata": {},
   "outputs": [],
   "source": [
    "Data.to_csv('2017_global.csv',index=False)"
   ]
  },
  {
   "cell_type": "markdown",
   "metadata": {},
   "source": [
    "2018"
   ]
  },
  {
   "cell_type": "code",
   "execution_count": 854,
   "metadata": {},
   "outputs": [],
   "source": [
    "f=open('2018_global.txt','r')"
   ]
  },
  {
   "cell_type": "code",
   "execution_count": 855,
   "metadata": {},
   "outputs": [],
   "source": [
    "textfile=f.read()"
   ]
  },
  {
   "cell_type": "code",
   "execution_count": 856,
   "metadata": {},
   "outputs": [],
   "source": [
    "import re\n",
    "textfile=re.sub(r\"http\\S+\",\"\",textfile)"
   ]
  },
  {
   "cell_type": "code",
   "execution_count": 857,
   "metadata": {},
   "outputs": [],
   "source": [
    "textfile=textfile.replace('\\\\n',' ')"
   ]
  },
  {
   "cell_type": "code",
   "execution_count": 858,
   "metadata": {},
   "outputs": [],
   "source": [
    "clean=['Ä¶',',','!','#','$','%','&','@','(',')','*',',',';','?','/','\\\\','+','=','<','>','_','-',':','RT','\\n','\\\\n','\"',\"'\",'{','}','[',']','1','2','3','4','5','6','7','8','9','0','.']"
   ]
  },
  {
   "cell_type": "code",
   "execution_count": 859,
   "metadata": {},
   "outputs": [],
   "source": [
    "for x in clean:\n",
    "    if x in textfile:\n",
    "        textfile=textfile.replace(x,' ')"
   ]
  },
  {
   "cell_type": "code",
   "execution_count": 860,
   "metadata": {},
   "outputs": [],
   "source": [
    "textfile=textfile.lower()"
   ]
  },
  {
   "cell_type": "code",
   "execution_count": 861,
   "metadata": {},
   "outputs": [],
   "source": [
    "textfile = textfile.replace('realdonaldtrump','trump')"
   ]
  },
  {
   "cell_type": "code",
   "execution_count": 862,
   "metadata": {},
   "outputs": [],
   "source": [
    "textfile = textfile.replace('donaldtrump','trump')\n",
    "textfile = textfile.replace('donald','trump')"
   ]
  },
  {
   "cell_type": "code",
   "execution_count": 863,
   "metadata": {},
   "outputs": [],
   "source": [
    "textfile=textfile.split()"
   ]
  },
  {
   "cell_type": "code",
   "execution_count": 864,
   "metadata": {},
   "outputs": [
    {
     "name": "stdout",
     "output_type": "stream",
     "text": [
      "['khwalz', 'no', 'global', 'warming', 'trump', 'my', 'what', 'an', 'asshole', 'hypocrite', 'and', 'liar', 'you', 'are', 'but', 'we', 've', 'known', 'for', 'ages', 'that', 'you', 're', 'a', 'sw‚', 'unscriptedmike', 'so', 'dems', 'will', 'soon', 'control', 'the', 'house', 'they‚äôll', 'push', 'socialism', 'in', 'the', 'most', 'successful', 'capitalist', 'country', 'in', 'history', 'the‚', 'alternatives', 'un', 'global', 'warming', 'report', 'urges', 'to', 'reduce', 'co', 'perfectsliders', 'what', 'is', 'it', 'really', 'called', 'now', 'global', 'warming', 'or', 'climate', 'change', 'ewoutjellema', 'reasons', 'to', 'go', 'vegan', 'meat', 'is', 'worse', 'for', 'global', 'warming', 'than', 'cars', 'going', 'year', 'without', 'beef', 'saves', 'trees', '‚', 'bob', 'zim', 'rick', 'ragan', 'johncornyn', 'the', 'big', 'scare', 'during', 'the', 's', 'was', 'that', 'fossil']\n"
     ]
    }
   ],
   "source": [
    "print(textfile[:100])"
   ]
  },
  {
   "cell_type": "code",
   "execution_count": 865,
   "metadata": {},
   "outputs": [],
   "source": [
    "d = {'Tweets':textfile}"
   ]
  },
  {
   "cell_type": "code",
   "execution_count": 866,
   "metadata": {},
   "outputs": [],
   "source": [
    "Data = pd.DataFrame(d)"
   ]
  },
  {
   "cell_type": "code",
   "execution_count": 867,
   "metadata": {},
   "outputs": [
    {
     "data": {
      "text/html": [
       "<div>\n",
       "<style scoped>\n",
       "    .dataframe tbody tr th:only-of-type {\n",
       "        vertical-align: middle;\n",
       "    }\n",
       "\n",
       "    .dataframe tbody tr th {\n",
       "        vertical-align: top;\n",
       "    }\n",
       "\n",
       "    .dataframe thead th {\n",
       "        text-align: right;\n",
       "    }\n",
       "</style>\n",
       "<table border=\"1\" class=\"dataframe\">\n",
       "  <thead>\n",
       "    <tr style=\"text-align: right;\">\n",
       "      <th></th>\n",
       "      <th>Tweets</th>\n",
       "    </tr>\n",
       "  </thead>\n",
       "  <tbody>\n",
       "    <tr>\n",
       "      <th>0</th>\n",
       "      <td>khwalz</td>\n",
       "    </tr>\n",
       "    <tr>\n",
       "      <th>1</th>\n",
       "      <td>no</td>\n",
       "    </tr>\n",
       "  </tbody>\n",
       "</table>\n",
       "</div>"
      ],
      "text/plain": [
       "   Tweets\n",
       "0  khwalz\n",
       "1      no"
      ]
     },
     "execution_count": 867,
     "metadata": {},
     "output_type": "execute_result"
    }
   ],
   "source": [
    "Data.head(2)"
   ]
  },
  {
   "cell_type": "code",
   "execution_count": 868,
   "metadata": {},
   "outputs": [],
   "source": [
    "Data = Data[Data['Tweets'] != 'fossil']"
   ]
  },
  {
   "cell_type": "code",
   "execution_count": 869,
   "metadata": {},
   "outputs": [],
   "source": [
    "Data = Data[Data['Tweets'] != 'fossilfuel']"
   ]
  },
  {
   "cell_type": "code",
   "execution_count": 870,
   "metadata": {},
   "outputs": [],
   "source": [
    "Data = Data[Data['Tweets'] != 'fossilfuels']"
   ]
  },
  {
   "cell_type": "code",
   "execution_count": 871,
   "metadata": {},
   "outputs": [],
   "source": [
    "Data = Data[Data['Tweets'] != 'fuels']"
   ]
  },
  {
   "cell_type": "code",
   "execution_count": 872,
   "metadata": {},
   "outputs": [],
   "source": [
    "Data = Data[Data['Tweets'] != 'global']"
   ]
  },
  {
   "cell_type": "code",
   "execution_count": 873,
   "metadata": {},
   "outputs": [],
   "source": [
    "Data = Data[Data['Tweets'] != 'globalwarming']"
   ]
  },
  {
   "cell_type": "code",
   "execution_count": 874,
   "metadata": {},
   "outputs": [],
   "source": [
    "Data = Data[Data['Tweets'] != 'warming']"
   ]
  },
  {
   "cell_type": "code",
   "execution_count": 875,
   "metadata": {},
   "outputs": [],
   "source": [
    "Data = Data[Data['Tweets'] != 'climate']"
   ]
  },
  {
   "cell_type": "code",
   "execution_count": 876,
   "metadata": {},
   "outputs": [],
   "source": [
    "Data = Data[Data['Tweets'] != 'climatechange']"
   ]
  },
  {
   "cell_type": "code",
   "execution_count": 877,
   "metadata": {},
   "outputs": [],
   "source": [
    "remove_these_words = pd.read_csv('remove_these_words.csv')"
   ]
  },
  {
   "cell_type": "code",
   "execution_count": 878,
   "metadata": {},
   "outputs": [],
   "source": [
    "Data = Data[Data['Tweets'].isin(remove_these_words['Words'])== False]"
   ]
  },
  {
   "cell_type": "code",
   "execution_count": 879,
   "metadata": {},
   "outputs": [],
   "source": [
    "Data.to_csv('2018_global.csv',index=False)"
   ]
  },
  {
   "cell_type": "code",
   "execution_count": null,
   "metadata": {},
   "outputs": [],
   "source": []
  },
  {
   "cell_type": "code",
   "execution_count": null,
   "metadata": {},
   "outputs": [],
   "source": []
  }
 ],
 "metadata": {
  "kernelspec": {
   "display_name": "Python 3",
   "language": "python",
   "name": "python3"
  },
  "language_info": {
   "codemirror_mode": {
    "name": "ipython",
    "version": 3
   },
   "file_extension": ".py",
   "mimetype": "text/x-python",
   "name": "python",
   "nbconvert_exporter": "python",
   "pygments_lexer": "ipython3",
   "version": "3.6.4"
  }
 },
 "nbformat": 4,
 "nbformat_minor": 2
}
